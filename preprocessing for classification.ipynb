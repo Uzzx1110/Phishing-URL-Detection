{
 "cells": [
  {
   "cell_type": "code",
   "execution_count": 1,
   "metadata": {},
   "outputs": [],
   "source": [
    "import numpy as np\n",
    "import pandas as pd"
   ]
  },
  {
   "cell_type": "code",
   "execution_count": 2,
   "metadata": {},
   "outputs": [
    {
     "data": {
      "text/html": [
       "<div>\n",
       "<style scoped>\n",
       "    .dataframe tbody tr th:only-of-type {\n",
       "        vertical-align: middle;\n",
       "    }\n",
       "\n",
       "    .dataframe tbody tr th {\n",
       "        vertical-align: top;\n",
       "    }\n",
       "\n",
       "    .dataframe thead th {\n",
       "        text-align: right;\n",
       "    }\n",
       "</style>\n",
       "<table border=\"1\" class=\"dataframe\">\n",
       "  <thead>\n",
       "    <tr style=\"text-align: right;\">\n",
       "      <th></th>\n",
       "      <th>FILENAME</th>\n",
       "      <th>URL</th>\n",
       "      <th>URLLength</th>\n",
       "      <th>Domain</th>\n",
       "      <th>DomainLength</th>\n",
       "      <th>IsDomainIP</th>\n",
       "      <th>TLD</th>\n",
       "      <th>URLSimilarityIndex</th>\n",
       "      <th>CharContinuationRate</th>\n",
       "      <th>TLDLegitimateProb</th>\n",
       "      <th>...</th>\n",
       "      <th>Pay</th>\n",
       "      <th>Crypto</th>\n",
       "      <th>HasCopyrightInfo</th>\n",
       "      <th>NoOfImage</th>\n",
       "      <th>NoOfCSS</th>\n",
       "      <th>NoOfJS</th>\n",
       "      <th>NoOfSelfRef</th>\n",
       "      <th>NoOfEmptyRef</th>\n",
       "      <th>NoOfExternalRef</th>\n",
       "      <th>label</th>\n",
       "    </tr>\n",
       "  </thead>\n",
       "  <tbody>\n",
       "    <tr>\n",
       "      <th>0</th>\n",
       "      <td>521848.txt</td>\n",
       "      <td>https://www.southbankmosaics.com</td>\n",
       "      <td>31</td>\n",
       "      <td>www.southbankmosaics.com</td>\n",
       "      <td>24</td>\n",
       "      <td>0</td>\n",
       "      <td>com</td>\n",
       "      <td>100.0</td>\n",
       "      <td>1.000000</td>\n",
       "      <td>0.522907</td>\n",
       "      <td>...</td>\n",
       "      <td>0</td>\n",
       "      <td>0</td>\n",
       "      <td>1</td>\n",
       "      <td>34</td>\n",
       "      <td>20</td>\n",
       "      <td>28</td>\n",
       "      <td>119</td>\n",
       "      <td>0</td>\n",
       "      <td>124</td>\n",
       "      <td>1</td>\n",
       "    </tr>\n",
       "    <tr>\n",
       "      <th>1</th>\n",
       "      <td>31372.txt</td>\n",
       "      <td>https://www.uni-mainz.de</td>\n",
       "      <td>23</td>\n",
       "      <td>www.uni-mainz.de</td>\n",
       "      <td>16</td>\n",
       "      <td>0</td>\n",
       "      <td>de</td>\n",
       "      <td>100.0</td>\n",
       "      <td>0.666667</td>\n",
       "      <td>0.032650</td>\n",
       "      <td>...</td>\n",
       "      <td>0</td>\n",
       "      <td>0</td>\n",
       "      <td>1</td>\n",
       "      <td>50</td>\n",
       "      <td>9</td>\n",
       "      <td>8</td>\n",
       "      <td>39</td>\n",
       "      <td>0</td>\n",
       "      <td>217</td>\n",
       "      <td>1</td>\n",
       "    </tr>\n",
       "    <tr>\n",
       "      <th>2</th>\n",
       "      <td>597387.txt</td>\n",
       "      <td>https://www.voicefmradio.co.uk</td>\n",
       "      <td>29</td>\n",
       "      <td>www.voicefmradio.co.uk</td>\n",
       "      <td>22</td>\n",
       "      <td>0</td>\n",
       "      <td>uk</td>\n",
       "      <td>100.0</td>\n",
       "      <td>0.866667</td>\n",
       "      <td>0.028555</td>\n",
       "      <td>...</td>\n",
       "      <td>0</td>\n",
       "      <td>0</td>\n",
       "      <td>1</td>\n",
       "      <td>10</td>\n",
       "      <td>2</td>\n",
       "      <td>7</td>\n",
       "      <td>42</td>\n",
       "      <td>2</td>\n",
       "      <td>5</td>\n",
       "      <td>1</td>\n",
       "    </tr>\n",
       "    <tr>\n",
       "      <th>3</th>\n",
       "      <td>554095.txt</td>\n",
       "      <td>https://www.sfnmjournal.com</td>\n",
       "      <td>26</td>\n",
       "      <td>www.sfnmjournal.com</td>\n",
       "      <td>19</td>\n",
       "      <td>0</td>\n",
       "      <td>com</td>\n",
       "      <td>100.0</td>\n",
       "      <td>1.000000</td>\n",
       "      <td>0.522907</td>\n",
       "      <td>...</td>\n",
       "      <td>1</td>\n",
       "      <td>1</td>\n",
       "      <td>1</td>\n",
       "      <td>3</td>\n",
       "      <td>27</td>\n",
       "      <td>15</td>\n",
       "      <td>22</td>\n",
       "      <td>1</td>\n",
       "      <td>31</td>\n",
       "      <td>1</td>\n",
       "    </tr>\n",
       "    <tr>\n",
       "      <th>4</th>\n",
       "      <td>151578.txt</td>\n",
       "      <td>https://www.rewildingargentina.org</td>\n",
       "      <td>33</td>\n",
       "      <td>www.rewildingargentina.org</td>\n",
       "      <td>26</td>\n",
       "      <td>0</td>\n",
       "      <td>org</td>\n",
       "      <td>100.0</td>\n",
       "      <td>1.000000</td>\n",
       "      <td>0.079963</td>\n",
       "      <td>...</td>\n",
       "      <td>1</td>\n",
       "      <td>0</td>\n",
       "      <td>1</td>\n",
       "      <td>244</td>\n",
       "      <td>15</td>\n",
       "      <td>34</td>\n",
       "      <td>72</td>\n",
       "      <td>1</td>\n",
       "      <td>85</td>\n",
       "      <td>1</td>\n",
       "    </tr>\n",
       "  </tbody>\n",
       "</table>\n",
       "<p>5 rows × 56 columns</p>\n",
       "</div>"
      ],
      "text/plain": [
       "     FILENAME                                 URL  URLLength  \\\n",
       "0  521848.txt    https://www.southbankmosaics.com         31   \n",
       "1   31372.txt            https://www.uni-mainz.de         23   \n",
       "2  597387.txt      https://www.voicefmradio.co.uk         29   \n",
       "3  554095.txt         https://www.sfnmjournal.com         26   \n",
       "4  151578.txt  https://www.rewildingargentina.org         33   \n",
       "\n",
       "                       Domain  DomainLength  IsDomainIP  TLD  \\\n",
       "0    www.southbankmosaics.com            24           0  com   \n",
       "1            www.uni-mainz.de            16           0   de   \n",
       "2      www.voicefmradio.co.uk            22           0   uk   \n",
       "3         www.sfnmjournal.com            19           0  com   \n",
       "4  www.rewildingargentina.org            26           0  org   \n",
       "\n",
       "   URLSimilarityIndex  CharContinuationRate  TLDLegitimateProb  ...  Pay  \\\n",
       "0               100.0              1.000000           0.522907  ...    0   \n",
       "1               100.0              0.666667           0.032650  ...    0   \n",
       "2               100.0              0.866667           0.028555  ...    0   \n",
       "3               100.0              1.000000           0.522907  ...    1   \n",
       "4               100.0              1.000000           0.079963  ...    1   \n",
       "\n",
       "   Crypto  HasCopyrightInfo  NoOfImage  NoOfCSS  NoOfJS  NoOfSelfRef  \\\n",
       "0       0                 1         34       20      28          119   \n",
       "1       0                 1         50        9       8           39   \n",
       "2       0                 1         10        2       7           42   \n",
       "3       1                 1          3       27      15           22   \n",
       "4       0                 1        244       15      34           72   \n",
       "\n",
       "   NoOfEmptyRef  NoOfExternalRef  label  \n",
       "0             0              124      1  \n",
       "1             0              217      1  \n",
       "2             2                5      1  \n",
       "3             1               31      1  \n",
       "4             1               85      1  \n",
       "\n",
       "[5 rows x 56 columns]"
      ]
     },
     "execution_count": 2,
     "metadata": {},
     "output_type": "execute_result"
    }
   ],
   "source": [
    "df=pd.read_csv(r\"C:\\Users\\Sejal Hanmante\\Downloads\\phiusiil+phishing+url+dataset\\PhiUSIIL_Phishing_URL_Dataset.csv\")\n",
    "df.head()"
   ]
  },
  {
   "cell_type": "code",
   "execution_count": 3,
   "metadata": {},
   "outputs": [],
   "source": [
    "df.drop([\"FILENAME\",\"URL\",\"Domain\",\"Title\"], axis=1, inplace=True)"
   ]
  },
  {
   "cell_type": "code",
   "execution_count": 4,
   "metadata": {},
   "outputs": [
    {
     "data": {
      "text/html": [
       "<div>\n",
       "<style scoped>\n",
       "    .dataframe tbody tr th:only-of-type {\n",
       "        vertical-align: middle;\n",
       "    }\n",
       "\n",
       "    .dataframe tbody tr th {\n",
       "        vertical-align: top;\n",
       "    }\n",
       "\n",
       "    .dataframe thead th {\n",
       "        text-align: right;\n",
       "    }\n",
       "</style>\n",
       "<table border=\"1\" class=\"dataframe\">\n",
       "  <thead>\n",
       "    <tr style=\"text-align: right;\">\n",
       "      <th></th>\n",
       "      <th>TLD</th>\n",
       "    </tr>\n",
       "  </thead>\n",
       "  <tbody>\n",
       "    <tr>\n",
       "      <th>0</th>\n",
       "      <td>com</td>\n",
       "    </tr>\n",
       "    <tr>\n",
       "      <th>1</th>\n",
       "      <td>de</td>\n",
       "    </tr>\n",
       "    <tr>\n",
       "      <th>2</th>\n",
       "      <td>uk</td>\n",
       "    </tr>\n",
       "    <tr>\n",
       "      <th>3</th>\n",
       "      <td>com</td>\n",
       "    </tr>\n",
       "    <tr>\n",
       "      <th>4</th>\n",
       "      <td>org</td>\n",
       "    </tr>\n",
       "    <tr>\n",
       "      <th>...</th>\n",
       "      <td>...</td>\n",
       "    </tr>\n",
       "    <tr>\n",
       "      <th>235790</th>\n",
       "      <td>com</td>\n",
       "    </tr>\n",
       "    <tr>\n",
       "      <th>235791</th>\n",
       "      <td>uk</td>\n",
       "    </tr>\n",
       "    <tr>\n",
       "      <th>235792</th>\n",
       "      <td>be</td>\n",
       "    </tr>\n",
       "    <tr>\n",
       "      <th>235793</th>\n",
       "      <td>dev</td>\n",
       "    </tr>\n",
       "    <tr>\n",
       "      <th>235794</th>\n",
       "      <td>com</td>\n",
       "    </tr>\n",
       "  </tbody>\n",
       "</table>\n",
       "<p>235795 rows × 1 columns</p>\n",
       "</div>"
      ],
      "text/plain": [
       "        TLD\n",
       "0       com\n",
       "1        de\n",
       "2        uk\n",
       "3       com\n",
       "4       org\n",
       "...     ...\n",
       "235790  com\n",
       "235791   uk\n",
       "235792   be\n",
       "235793  dev\n",
       "235794  com\n",
       "\n",
       "[235795 rows x 1 columns]"
      ]
     },
     "execution_count": 4,
     "metadata": {},
     "output_type": "execute_result"
    }
   ],
   "source": [
    "df.select_dtypes(\"object\")"
   ]
  },
  {
   "cell_type": "code",
   "execution_count": 5,
   "metadata": {},
   "outputs": [
    {
     "data": {
      "text/plain": [
       "TLD\n",
       "com     112554\n",
       "org      18793\n",
       "net       7097\n",
       "app       6508\n",
       "uk        6395\n",
       "co        5422\n",
       "io        4201\n",
       "de        3996\n",
       "ru        3875\n",
       "au        2979\n",
       "dev       2345\n",
       "top       2329\n",
       "jp        2219\n",
       "it        1887\n",
       "edu       1861\n",
       "fr        1858\n",
       "br        1846\n",
       "nl        1727\n",
       "ca        1614\n",
       "info      1566\n",
       "site      1482\n",
       "xyz       1473\n",
       "link      1463\n",
       "in        1379\n",
       "pl        1339\n",
       "gov       1276\n",
       "cf        1203\n",
       "ga        1111\n",
       "us        1108\n",
       "me        1006\n",
       "ml         995\n",
       "cn         993\n",
       "eu         980\n",
       "id         802\n",
       "es         705\n",
       "se         704\n",
       "be         696\n",
       "nz         614\n",
       "cz         587\n",
       "ch         560\n",
       "ro         549\n",
       "at         517\n",
       "club       517\n",
       "za         508\n",
       "gr         500\n",
       "mx         498\n",
       "gq         493\n",
       "page       490\n",
       "ie         468\n",
       "biz        429\n",
       "Name: label, dtype: int64"
      ]
     },
     "execution_count": 5,
     "metadata": {},
     "output_type": "execute_result"
    }
   ],
   "source": [
    "a = df.groupby(\"TLD\")[\"label\"].count().nlargest(50)\n",
    "a"
   ]
  },
  {
   "cell_type": "code",
   "execution_count": 6,
   "metadata": {},
   "outputs": [
    {
     "data": {
      "text/plain": [
       "TLD       label\n",
       "100       0        1\n",
       "107       0        1\n",
       "11        0        1\n",
       "110       0        1\n",
       "111       0        1\n",
       "121       0        1\n",
       "125       0        1\n",
       "126       0        1\n",
       "126:8080  0        1\n",
       "133:8080  0        1\n",
       "Name: IsDomainIP, dtype: int64"
      ]
     },
     "execution_count": 6,
     "metadata": {},
     "output_type": "execute_result"
    }
   ],
   "source": [
    "b = df.groupby([\"TLD\",\"label\"])[\"IsDomainIP\"].count().nsmallest(10)\n",
    "b"
   ]
  },
  {
   "cell_type": "code",
   "execution_count": 7,
   "metadata": {},
   "outputs": [],
   "source": [
    "X = df.drop([\"label\",\"TLD\"],axis=1)\n",
    "y = df[\"label\"]\n"
   ]
  },
  {
   "cell_type": "markdown",
   "metadata": {},
   "source": [
    "### Feature selection for classification models\n",
    "1.Information Gain"
   ]
  },
  {
   "cell_type": "code",
   "execution_count": 8,
   "metadata": {},
   "outputs": [
    {
     "data": {
      "application/vnd.plotly.v1+json": {
       "config": {
        "plotlyServerURL": "https://plot.ly"
       },
       "data": [
        {
         "alignmentgroup": "True",
         "hovertemplate": "variable=0<br>value=%{x}<br>index=%{y}<extra></extra>",
         "legendgroup": "0",
         "marker": {
          "color": "#636efa",
          "pattern": {
           "shape": ""
          }
         },
         "name": "0",
         "offsetgroup": "0",
         "orientation": "h",
         "showlegend": true,
         "textposition": "auto",
         "type": "bar",
         "x": [
          0.16691725775689337,
          0.0915212226520914,
          0.002255988844731549,
          0.6803223226006747,
          0.17206939874731408,
          0.19838106080485662,
          0.1371884625884292,
          0.030143045314708683,
          0.08065900717077601,
          0.0018755538506904923,
          0.0007850902034889362,
          0.00008868537044404157,
          0.15492172476320842,
          0.38275836642063465,
          0.17026362003401707,
          0.17170927571566885,
          0.019407085596819362,
          0.021600591047151063,
          0.003518925217049107,
          0.24120993191200757,
          0.2052029937640838,
          0.2585898640874571,
          0.6013856977841179,
          0.4883535371630232,
          0.15451219725011267,
          0.21782634149229696,
          0.19607859328877542,
          0.15085333463524275,
          0.09783044174433253,
          0.1862675604692159,
          0.0031959593907116,
          0.0035295908240324803,
          0.30595021935244704,
          0.024804897376957014,
          0.1672446733432107,
          0.017902150707772346,
          0.41738978697247187,
          0.2107929732365348,
          0.16174229624416436,
          0.009737029488549265,
          0.021724208130917688,
          0.08130886750112154,
          0.006914178286288486,
          0.35295546242434717,
          0.5430109016985523,
          0.44564599410114947,
          0.5002704793965804,
          0.527895846716316,
          0.168254314261034,
          0.5612601432795876
         ],
         "xaxis": "x",
         "y": [
          "URLLength",
          "DomainLength",
          "IsDomainIP",
          "URLSimilarityIndex",
          "CharContinuationRate",
          "TLDLegitimateProb",
          "URLCharProb",
          "TLDLength",
          "NoOfSubDomain",
          "HasObfuscation",
          "NoOfObfuscatedChar",
          "ObfuscationRatio",
          "NoOfLettersInURL",
          "LetterRatioInURL",
          "NoOfDegitsInURL",
          "DegitRatioInURL",
          "NoOfEqualsInURL",
          "NoOfQMarkInURL",
          "NoOfAmpersandInURL",
          "NoOfOtherSpecialCharsInURL",
          "SpacialCharRatioInURL",
          "IsHTTPS",
          "LineOfCode",
          "LargestLineLength",
          "HasTitle",
          "DomainTitleMatchScore",
          "URLTitleMatchScore",
          "HasFavicon",
          "Robots",
          "IsResponsive",
          "NoOfURLRedirect",
          "NoOfSelfRedirect",
          "HasDescription",
          "NoOfPopup",
          "NoOfiFrame",
          "HasExternalFormSubmit",
          "HasSocialNet",
          "HasSubmitButton",
          "HasHiddenFields",
          "HasPasswordField",
          "Bank",
          "Pay",
          "Crypto",
          "HasCopyrightInfo",
          "NoOfImage",
          "NoOfCSS",
          "NoOfJS",
          "NoOfSelfRef",
          "NoOfEmptyRef",
          "NoOfExternalRef"
         ],
         "yaxis": "y"
        }
       ],
       "layout": {
        "barmode": "relative",
        "legend": {
         "title": {
          "text": "variable"
         },
         "tracegroupgap": 0
        },
        "margin": {
         "t": 60
        },
        "template": {
         "data": {
          "bar": [
           {
            "error_x": {
             "color": "#2a3f5f"
            },
            "error_y": {
             "color": "#2a3f5f"
            },
            "marker": {
             "line": {
              "color": "#E5ECF6",
              "width": 0.5
             },
             "pattern": {
              "fillmode": "overlay",
              "size": 10,
              "solidity": 0.2
             }
            },
            "type": "bar"
           }
          ],
          "barpolar": [
           {
            "marker": {
             "line": {
              "color": "#E5ECF6",
              "width": 0.5
             },
             "pattern": {
              "fillmode": "overlay",
              "size": 10,
              "solidity": 0.2
             }
            },
            "type": "barpolar"
           }
          ],
          "carpet": [
           {
            "aaxis": {
             "endlinecolor": "#2a3f5f",
             "gridcolor": "white",
             "linecolor": "white",
             "minorgridcolor": "white",
             "startlinecolor": "#2a3f5f"
            },
            "baxis": {
             "endlinecolor": "#2a3f5f",
             "gridcolor": "white",
             "linecolor": "white",
             "minorgridcolor": "white",
             "startlinecolor": "#2a3f5f"
            },
            "type": "carpet"
           }
          ],
          "choropleth": [
           {
            "colorbar": {
             "outlinewidth": 0,
             "ticks": ""
            },
            "type": "choropleth"
           }
          ],
          "contour": [
           {
            "colorbar": {
             "outlinewidth": 0,
             "ticks": ""
            },
            "colorscale": [
             [
              0,
              "#0d0887"
             ],
             [
              0.1111111111111111,
              "#46039f"
             ],
             [
              0.2222222222222222,
              "#7201a8"
             ],
             [
              0.3333333333333333,
              "#9c179e"
             ],
             [
              0.4444444444444444,
              "#bd3786"
             ],
             [
              0.5555555555555556,
              "#d8576b"
             ],
             [
              0.6666666666666666,
              "#ed7953"
             ],
             [
              0.7777777777777778,
              "#fb9f3a"
             ],
             [
              0.8888888888888888,
              "#fdca26"
             ],
             [
              1,
              "#f0f921"
             ]
            ],
            "type": "contour"
           }
          ],
          "contourcarpet": [
           {
            "colorbar": {
             "outlinewidth": 0,
             "ticks": ""
            },
            "type": "contourcarpet"
           }
          ],
          "heatmap": [
           {
            "colorbar": {
             "outlinewidth": 0,
             "ticks": ""
            },
            "colorscale": [
             [
              0,
              "#0d0887"
             ],
             [
              0.1111111111111111,
              "#46039f"
             ],
             [
              0.2222222222222222,
              "#7201a8"
             ],
             [
              0.3333333333333333,
              "#9c179e"
             ],
             [
              0.4444444444444444,
              "#bd3786"
             ],
             [
              0.5555555555555556,
              "#d8576b"
             ],
             [
              0.6666666666666666,
              "#ed7953"
             ],
             [
              0.7777777777777778,
              "#fb9f3a"
             ],
             [
              0.8888888888888888,
              "#fdca26"
             ],
             [
              1,
              "#f0f921"
             ]
            ],
            "type": "heatmap"
           }
          ],
          "heatmapgl": [
           {
            "colorbar": {
             "outlinewidth": 0,
             "ticks": ""
            },
            "colorscale": [
             [
              0,
              "#0d0887"
             ],
             [
              0.1111111111111111,
              "#46039f"
             ],
             [
              0.2222222222222222,
              "#7201a8"
             ],
             [
              0.3333333333333333,
              "#9c179e"
             ],
             [
              0.4444444444444444,
              "#bd3786"
             ],
             [
              0.5555555555555556,
              "#d8576b"
             ],
             [
              0.6666666666666666,
              "#ed7953"
             ],
             [
              0.7777777777777778,
              "#fb9f3a"
             ],
             [
              0.8888888888888888,
              "#fdca26"
             ],
             [
              1,
              "#f0f921"
             ]
            ],
            "type": "heatmapgl"
           }
          ],
          "histogram": [
           {
            "marker": {
             "pattern": {
              "fillmode": "overlay",
              "size": 10,
              "solidity": 0.2
             }
            },
            "type": "histogram"
           }
          ],
          "histogram2d": [
           {
            "colorbar": {
             "outlinewidth": 0,
             "ticks": ""
            },
            "colorscale": [
             [
              0,
              "#0d0887"
             ],
             [
              0.1111111111111111,
              "#46039f"
             ],
             [
              0.2222222222222222,
              "#7201a8"
             ],
             [
              0.3333333333333333,
              "#9c179e"
             ],
             [
              0.4444444444444444,
              "#bd3786"
             ],
             [
              0.5555555555555556,
              "#d8576b"
             ],
             [
              0.6666666666666666,
              "#ed7953"
             ],
             [
              0.7777777777777778,
              "#fb9f3a"
             ],
             [
              0.8888888888888888,
              "#fdca26"
             ],
             [
              1,
              "#f0f921"
             ]
            ],
            "type": "histogram2d"
           }
          ],
          "histogram2dcontour": [
           {
            "colorbar": {
             "outlinewidth": 0,
             "ticks": ""
            },
            "colorscale": [
             [
              0,
              "#0d0887"
             ],
             [
              0.1111111111111111,
              "#46039f"
             ],
             [
              0.2222222222222222,
              "#7201a8"
             ],
             [
              0.3333333333333333,
              "#9c179e"
             ],
             [
              0.4444444444444444,
              "#bd3786"
             ],
             [
              0.5555555555555556,
              "#d8576b"
             ],
             [
              0.6666666666666666,
              "#ed7953"
             ],
             [
              0.7777777777777778,
              "#fb9f3a"
             ],
             [
              0.8888888888888888,
              "#fdca26"
             ],
             [
              1,
              "#f0f921"
             ]
            ],
            "type": "histogram2dcontour"
           }
          ],
          "mesh3d": [
           {
            "colorbar": {
             "outlinewidth": 0,
             "ticks": ""
            },
            "type": "mesh3d"
           }
          ],
          "parcoords": [
           {
            "line": {
             "colorbar": {
              "outlinewidth": 0,
              "ticks": ""
             }
            },
            "type": "parcoords"
           }
          ],
          "pie": [
           {
            "automargin": true,
            "type": "pie"
           }
          ],
          "scatter": [
           {
            "fillpattern": {
             "fillmode": "overlay",
             "size": 10,
             "solidity": 0.2
            },
            "type": "scatter"
           }
          ],
          "scatter3d": [
           {
            "line": {
             "colorbar": {
              "outlinewidth": 0,
              "ticks": ""
             }
            },
            "marker": {
             "colorbar": {
              "outlinewidth": 0,
              "ticks": ""
             }
            },
            "type": "scatter3d"
           }
          ],
          "scattercarpet": [
           {
            "marker": {
             "colorbar": {
              "outlinewidth": 0,
              "ticks": ""
             }
            },
            "type": "scattercarpet"
           }
          ],
          "scattergeo": [
           {
            "marker": {
             "colorbar": {
              "outlinewidth": 0,
              "ticks": ""
             }
            },
            "type": "scattergeo"
           }
          ],
          "scattergl": [
           {
            "marker": {
             "colorbar": {
              "outlinewidth": 0,
              "ticks": ""
             }
            },
            "type": "scattergl"
           }
          ],
          "scattermapbox": [
           {
            "marker": {
             "colorbar": {
              "outlinewidth": 0,
              "ticks": ""
             }
            },
            "type": "scattermapbox"
           }
          ],
          "scatterpolar": [
           {
            "marker": {
             "colorbar": {
              "outlinewidth": 0,
              "ticks": ""
             }
            },
            "type": "scatterpolar"
           }
          ],
          "scatterpolargl": [
           {
            "marker": {
             "colorbar": {
              "outlinewidth": 0,
              "ticks": ""
             }
            },
            "type": "scatterpolargl"
           }
          ],
          "scatterternary": [
           {
            "marker": {
             "colorbar": {
              "outlinewidth": 0,
              "ticks": ""
             }
            },
            "type": "scatterternary"
           }
          ],
          "surface": [
           {
            "colorbar": {
             "outlinewidth": 0,
             "ticks": ""
            },
            "colorscale": [
             [
              0,
              "#0d0887"
             ],
             [
              0.1111111111111111,
              "#46039f"
             ],
             [
              0.2222222222222222,
              "#7201a8"
             ],
             [
              0.3333333333333333,
              "#9c179e"
             ],
             [
              0.4444444444444444,
              "#bd3786"
             ],
             [
              0.5555555555555556,
              "#d8576b"
             ],
             [
              0.6666666666666666,
              "#ed7953"
             ],
             [
              0.7777777777777778,
              "#fb9f3a"
             ],
             [
              0.8888888888888888,
              "#fdca26"
             ],
             [
              1,
              "#f0f921"
             ]
            ],
            "type": "surface"
           }
          ],
          "table": [
           {
            "cells": {
             "fill": {
              "color": "#EBF0F8"
             },
             "line": {
              "color": "white"
             }
            },
            "header": {
             "fill": {
              "color": "#C8D4E3"
             },
             "line": {
              "color": "white"
             }
            },
            "type": "table"
           }
          ]
         },
         "layout": {
          "annotationdefaults": {
           "arrowcolor": "#2a3f5f",
           "arrowhead": 0,
           "arrowwidth": 1
          },
          "autotypenumbers": "strict",
          "coloraxis": {
           "colorbar": {
            "outlinewidth": 0,
            "ticks": ""
           }
          },
          "colorscale": {
           "diverging": [
            [
             0,
             "#8e0152"
            ],
            [
             0.1,
             "#c51b7d"
            ],
            [
             0.2,
             "#de77ae"
            ],
            [
             0.3,
             "#f1b6da"
            ],
            [
             0.4,
             "#fde0ef"
            ],
            [
             0.5,
             "#f7f7f7"
            ],
            [
             0.6,
             "#e6f5d0"
            ],
            [
             0.7,
             "#b8e186"
            ],
            [
             0.8,
             "#7fbc41"
            ],
            [
             0.9,
             "#4d9221"
            ],
            [
             1,
             "#276419"
            ]
           ],
           "sequential": [
            [
             0,
             "#0d0887"
            ],
            [
             0.1111111111111111,
             "#46039f"
            ],
            [
             0.2222222222222222,
             "#7201a8"
            ],
            [
             0.3333333333333333,
             "#9c179e"
            ],
            [
             0.4444444444444444,
             "#bd3786"
            ],
            [
             0.5555555555555556,
             "#d8576b"
            ],
            [
             0.6666666666666666,
             "#ed7953"
            ],
            [
             0.7777777777777778,
             "#fb9f3a"
            ],
            [
             0.8888888888888888,
             "#fdca26"
            ],
            [
             1,
             "#f0f921"
            ]
           ],
           "sequentialminus": [
            [
             0,
             "#0d0887"
            ],
            [
             0.1111111111111111,
             "#46039f"
            ],
            [
             0.2222222222222222,
             "#7201a8"
            ],
            [
             0.3333333333333333,
             "#9c179e"
            ],
            [
             0.4444444444444444,
             "#bd3786"
            ],
            [
             0.5555555555555556,
             "#d8576b"
            ],
            [
             0.6666666666666666,
             "#ed7953"
            ],
            [
             0.7777777777777778,
             "#fb9f3a"
            ],
            [
             0.8888888888888888,
             "#fdca26"
            ],
            [
             1,
             "#f0f921"
            ]
           ]
          },
          "colorway": [
           "#636efa",
           "#EF553B",
           "#00cc96",
           "#ab63fa",
           "#FFA15A",
           "#19d3f3",
           "#FF6692",
           "#B6E880",
           "#FF97FF",
           "#FECB52"
          ],
          "font": {
           "color": "#2a3f5f"
          },
          "geo": {
           "bgcolor": "white",
           "lakecolor": "white",
           "landcolor": "#E5ECF6",
           "showlakes": true,
           "showland": true,
           "subunitcolor": "white"
          },
          "hoverlabel": {
           "align": "left"
          },
          "hovermode": "closest",
          "mapbox": {
           "style": "light"
          },
          "paper_bgcolor": "white",
          "plot_bgcolor": "#E5ECF6",
          "polar": {
           "angularaxis": {
            "gridcolor": "white",
            "linecolor": "white",
            "ticks": ""
           },
           "bgcolor": "#E5ECF6",
           "radialaxis": {
            "gridcolor": "white",
            "linecolor": "white",
            "ticks": ""
           }
          },
          "scene": {
           "xaxis": {
            "backgroundcolor": "#E5ECF6",
            "gridcolor": "white",
            "gridwidth": 2,
            "linecolor": "white",
            "showbackground": true,
            "ticks": "",
            "zerolinecolor": "white"
           },
           "yaxis": {
            "backgroundcolor": "#E5ECF6",
            "gridcolor": "white",
            "gridwidth": 2,
            "linecolor": "white",
            "showbackground": true,
            "ticks": "",
            "zerolinecolor": "white"
           },
           "zaxis": {
            "backgroundcolor": "#E5ECF6",
            "gridcolor": "white",
            "gridwidth": 2,
            "linecolor": "white",
            "showbackground": true,
            "ticks": "",
            "zerolinecolor": "white"
           }
          },
          "shapedefaults": {
           "line": {
            "color": "#2a3f5f"
           }
          },
          "ternary": {
           "aaxis": {
            "gridcolor": "white",
            "linecolor": "white",
            "ticks": ""
           },
           "baxis": {
            "gridcolor": "white",
            "linecolor": "white",
            "ticks": ""
           },
           "bgcolor": "#E5ECF6",
           "caxis": {
            "gridcolor": "white",
            "linecolor": "white",
            "ticks": ""
           }
          },
          "title": {
           "x": 0.05
          },
          "xaxis": {
           "automargin": true,
           "gridcolor": "white",
           "linecolor": "white",
           "ticks": "",
           "title": {
            "standoff": 15
           },
           "zerolinecolor": "white",
           "zerolinewidth": 2
          },
          "yaxis": {
           "automargin": true,
           "gridcolor": "white",
           "linecolor": "white",
           "ticks": "",
           "title": {
            "standoff": 15
           },
           "zerolinecolor": "white",
           "zerolinewidth": 2
          }
         }
        },
        "xaxis": {
         "anchor": "y",
         "domain": [
          0,
          1
         ],
         "title": {
          "text": "value"
         }
        },
        "yaxis": {
         "anchor": "x",
         "domain": [
          0,
          1
         ],
         "title": {
          "text": "index"
         }
        }
       }
      }
     },
     "metadata": {},
     "output_type": "display_data"
    }
   ],
   "source": [
    "from sklearn.feature_selection import mutual_info_classif\n",
    "import plotly.express as px\n",
    "%matplotlib inline \n",
    "importances = mutual_info_classif(X,y)\n",
    "feat_importance = pd.Series(importances,X.columns)\n",
    "px.bar(feat_importance,orientation=\"h\")"
   ]
  },
  {
   "cell_type": "code",
   "execution_count": 9,
   "metadata": {},
   "outputs": [
    {
     "name": "stdout",
     "output_type": "stream",
     "text": [
      "Selected features: ['URLSimilarityIndex', 'LineOfCode', 'LargestLineLength', 'HasSocialNet', 'NoOfImage', 'NoOfCSS', 'NoOfJS', 'NoOfSelfRef', 'NoOfExternalRef']\n"
     ]
    }
   ],
   "source": [
    "# Calculate mutual information for each feature\n",
    "importances = mutual_info_classif(X, y)\n",
    "\n",
    "# Create a Series with feature names and importance scores\n",
    "feat_importance = pd.Series(importances, index=X.columns)\n",
    "\n",
    "# Define a threshold for information gain (adjust as needed)\n",
    "threshold = 0.4 # You can experiment with different values\n",
    "\n",
    "# Select features with information gain above the threshold\n",
    "selected_features = feat_importance[feat_importance >= threshold].index.tolist()\n",
    "\n",
    "# Filter the original data using the selected features\n",
    "X_filtered = X[selected_features]\n",
    "\n",
    "# Now you can use X_filtered for further analysis or modeling\n",
    "print(\"Selected features:\", selected_features)"
   ]
  },
  {
   "cell_type": "markdown",
   "metadata": {},
   "source": [
    "2.Feature Selection using Correlation Coefficient"
   ]
  },
  {
   "cell_type": "code",
   "execution_count": 10,
   "metadata": {},
   "outputs": [
    {
     "data": {
      "text/plain": [
       "(42,)"
      ]
     },
     "execution_count": 10,
     "metadata": {},
     "output_type": "execute_result"
    }
   ],
   "source": [
    "cor = X.corr()\n",
    "cor\n",
    "columns = np.full((cor.shape[0],), True, dtype=bool)\n",
    "for i in range(cor.shape[0]):\n",
    "    for j in range(i+1, cor.shape[0]):\n",
    "        if cor.iloc[i,j] >= 0.7:\n",
    "            if columns[j]:\n",
    "                columns[j] = False\n",
    "\n",
    "selected_columns = X.columns[columns]\n",
    "selected_columns.shape"
   ]
  },
  {
   "cell_type": "markdown",
   "metadata": {},
   "source": [
    "3. Backward elimination"
   ]
  },
  {
   "cell_type": "code",
   "execution_count": 11,
   "metadata": {},
   "outputs": [],
   "source": [
    "import statsmodels.formula.api as sm\n",
    "from statsmodels.regression.linear_model import OLS\n",
    "\n",
    "def backwardElimination(x, Y, sl, columns):\n",
    "    numVars = len(x[0])\n",
    "    for i in range(numVars - 1, -1, -1):\n",
    "        regressor_OLS = OLS(Y, x).fit()\n",
    "        maxVar = max(regressor_OLS.pvalues).astype(float)\n",
    "        if maxVar > sl:\n",
    "            if (regressor_OLS.pvalues[i].astype(float) == maxVar):\n",
    "                x = np.delete(x, i, 1)\n",
    "                columns = np.delete(columns, i)\n",
    "    regressor_OLS.summary()\n",
    "    return x, columns"
   ]
  },
  {
   "cell_type": "code",
   "execution_count": 12,
   "metadata": {},
   "outputs": [],
   "source": [
    "SL = 0.01\n",
    "data_modeled, selected_columns1 = backwardElimination(X.values,y.values,SL, selected_columns)"
   ]
  },
  {
   "cell_type": "code",
   "execution_count": 13,
   "metadata": {},
   "outputs": [
    {
     "data": {
      "text/plain": [
       "(41,)"
      ]
     },
     "execution_count": 13,
     "metadata": {},
     "output_type": "execute_result"
    }
   ],
   "source": [
    "selected_columns1.shape"
   ]
  },
  {
   "cell_type": "markdown",
   "metadata": {},
   "source": [
    "#### On applying various feature selection techniques correlation and backward elemination technique gives us similar results . Hence , we will be training our models on the features selected by these two"
   ]
  },
  {
   "cell_type": "markdown",
   "metadata": {},
   "source": [
    "4. Bidirectional Feature Selection"
   ]
  },
  {
   "cell_type": "code",
   "execution_count": 14,
   "metadata": {},
   "outputs": [
    {
     "name": "stderr",
     "output_type": "stream",
     "text": [
      "d:\\Anaconda\\envs\\env1\\lib\\site-packages\\sklearn\\linear_model\\_logistic.py:460: ConvergenceWarning:\n",
      "\n",
      "lbfgs failed to converge (status=1):\n",
      "STOP: TOTAL NO. of ITERATIONS REACHED LIMIT.\n",
      "\n",
      "Increase the number of iterations (max_iter) or scale the data as shown in:\n",
      "    https://scikit-learn.org/stable/modules/preprocessing.html\n",
      "Please also refer to the documentation for alternative solver options:\n",
      "    https://scikit-learn.org/stable/modules/linear_model.html#logistic-regression\n",
      "\n",
      "d:\\Anaconda\\envs\\env1\\lib\\site-packages\\sklearn\\linear_model\\_logistic.py:460: ConvergenceWarning:\n",
      "\n",
      "lbfgs failed to converge (status=1):\n",
      "STOP: TOTAL NO. of ITERATIONS REACHED LIMIT.\n",
      "\n",
      "Increase the number of iterations (max_iter) or scale the data as shown in:\n",
      "    https://scikit-learn.org/stable/modules/preprocessing.html\n",
      "Please also refer to the documentation for alternative solver options:\n",
      "    https://scikit-learn.org/stable/modules/linear_model.html#logistic-regression\n",
      "\n",
      "d:\\Anaconda\\envs\\env1\\lib\\site-packages\\sklearn\\linear_model\\_logistic.py:460: ConvergenceWarning:\n",
      "\n",
      "lbfgs failed to converge (status=1):\n",
      "STOP: TOTAL NO. of ITERATIONS REACHED LIMIT.\n",
      "\n",
      "Increase the number of iterations (max_iter) or scale the data as shown in:\n",
      "    https://scikit-learn.org/stable/modules/preprocessing.html\n",
      "Please also refer to the documentation for alternative solver options:\n",
      "    https://scikit-learn.org/stable/modules/linear_model.html#logistic-regression\n",
      "\n",
      "d:\\Anaconda\\envs\\env1\\lib\\site-packages\\sklearn\\linear_model\\_logistic.py:460: ConvergenceWarning:\n",
      "\n",
      "lbfgs failed to converge (status=1):\n",
      "STOP: TOTAL NO. of ITERATIONS REACHED LIMIT.\n",
      "\n",
      "Increase the number of iterations (max_iter) or scale the data as shown in:\n",
      "    https://scikit-learn.org/stable/modules/preprocessing.html\n",
      "Please also refer to the documentation for alternative solver options:\n",
      "    https://scikit-learn.org/stable/modules/linear_model.html#logistic-regression\n",
      "\n",
      "d:\\Anaconda\\envs\\env1\\lib\\site-packages\\sklearn\\linear_model\\_logistic.py:460: ConvergenceWarning:\n",
      "\n",
      "lbfgs failed to converge (status=1):\n",
      "STOP: TOTAL NO. of ITERATIONS REACHED LIMIT.\n",
      "\n",
      "Increase the number of iterations (max_iter) or scale the data as shown in:\n",
      "    https://scikit-learn.org/stable/modules/preprocessing.html\n",
      "Please also refer to the documentation for alternative solver options:\n",
      "    https://scikit-learn.org/stable/modules/linear_model.html#logistic-regression\n",
      "\n",
      "d:\\Anaconda\\envs\\env1\\lib\\site-packages\\sklearn\\linear_model\\_logistic.py:460: ConvergenceWarning:\n",
      "\n",
      "lbfgs failed to converge (status=1):\n",
      "STOP: TOTAL NO. of ITERATIONS REACHED LIMIT.\n",
      "\n",
      "Increase the number of iterations (max_iter) or scale the data as shown in:\n",
      "    https://scikit-learn.org/stable/modules/preprocessing.html\n",
      "Please also refer to the documentation for alternative solver options:\n",
      "    https://scikit-learn.org/stable/modules/linear_model.html#logistic-regression\n",
      "\n",
      "d:\\Anaconda\\envs\\env1\\lib\\site-packages\\sklearn\\linear_model\\_logistic.py:460: ConvergenceWarning:\n",
      "\n",
      "lbfgs failed to converge (status=1):\n",
      "STOP: TOTAL NO. of ITERATIONS REACHED LIMIT.\n",
      "\n",
      "Increase the number of iterations (max_iter) or scale the data as shown in:\n",
      "    https://scikit-learn.org/stable/modules/preprocessing.html\n",
      "Please also refer to the documentation for alternative solver options:\n",
      "    https://scikit-learn.org/stable/modules/linear_model.html#logistic-regression\n",
      "\n",
      "d:\\Anaconda\\envs\\env1\\lib\\site-packages\\sklearn\\linear_model\\_logistic.py:460: ConvergenceWarning:\n",
      "\n",
      "lbfgs failed to converge (status=1):\n",
      "STOP: TOTAL NO. of ITERATIONS REACHED LIMIT.\n",
      "\n",
      "Increase the number of iterations (max_iter) or scale the data as shown in:\n",
      "    https://scikit-learn.org/stable/modules/preprocessing.html\n",
      "Please also refer to the documentation for alternative solver options:\n",
      "    https://scikit-learn.org/stable/modules/linear_model.html#logistic-regression\n",
      "\n",
      "d:\\Anaconda\\envs\\env1\\lib\\site-packages\\sklearn\\linear_model\\_logistic.py:460: ConvergenceWarning:\n",
      "\n",
      "lbfgs failed to converge (status=1):\n",
      "STOP: TOTAL NO. of ITERATIONS REACHED LIMIT.\n",
      "\n",
      "Increase the number of iterations (max_iter) or scale the data as shown in:\n",
      "    https://scikit-learn.org/stable/modules/preprocessing.html\n",
      "Please also refer to the documentation for alternative solver options:\n",
      "    https://scikit-learn.org/stable/modules/linear_model.html#logistic-regression\n",
      "\n",
      "d:\\Anaconda\\envs\\env1\\lib\\site-packages\\sklearn\\linear_model\\_logistic.py:460: ConvergenceWarning:\n",
      "\n",
      "lbfgs failed to converge (status=1):\n",
      "STOP: TOTAL NO. of ITERATIONS REACHED LIMIT.\n",
      "\n",
      "Increase the number of iterations (max_iter) or scale the data as shown in:\n",
      "    https://scikit-learn.org/stable/modules/preprocessing.html\n",
      "Please also refer to the documentation for alternative solver options:\n",
      "    https://scikit-learn.org/stable/modules/linear_model.html#logistic-regression\n",
      "\n",
      "d:\\Anaconda\\envs\\env1\\lib\\site-packages\\sklearn\\linear_model\\_logistic.py:460: ConvergenceWarning:\n",
      "\n",
      "lbfgs failed to converge (status=1):\n",
      "STOP: TOTAL NO. of ITERATIONS REACHED LIMIT.\n",
      "\n",
      "Increase the number of iterations (max_iter) or scale the data as shown in:\n",
      "    https://scikit-learn.org/stable/modules/preprocessing.html\n",
      "Please also refer to the documentation for alternative solver options:\n",
      "    https://scikit-learn.org/stable/modules/linear_model.html#logistic-regression\n",
      "\n",
      "d:\\Anaconda\\envs\\env1\\lib\\site-packages\\sklearn\\linear_model\\_logistic.py:460: ConvergenceWarning:\n",
      "\n",
      "lbfgs failed to converge (status=1):\n",
      "STOP: TOTAL NO. of ITERATIONS REACHED LIMIT.\n",
      "\n",
      "Increase the number of iterations (max_iter) or scale the data as shown in:\n",
      "    https://scikit-learn.org/stable/modules/preprocessing.html\n",
      "Please also refer to the documentation for alternative solver options:\n",
      "    https://scikit-learn.org/stable/modules/linear_model.html#logistic-regression\n",
      "\n",
      "d:\\Anaconda\\envs\\env1\\lib\\site-packages\\sklearn\\linear_model\\_logistic.py:460: ConvergenceWarning:\n",
      "\n",
      "lbfgs failed to converge (status=1):\n",
      "STOP: TOTAL NO. of ITERATIONS REACHED LIMIT.\n",
      "\n",
      "Increase the number of iterations (max_iter) or scale the data as shown in:\n",
      "    https://scikit-learn.org/stable/modules/preprocessing.html\n",
      "Please also refer to the documentation for alternative solver options:\n",
      "    https://scikit-learn.org/stable/modules/linear_model.html#logistic-regression\n",
      "\n",
      "d:\\Anaconda\\envs\\env1\\lib\\site-packages\\sklearn\\linear_model\\_logistic.py:460: ConvergenceWarning:\n",
      "\n",
      "lbfgs failed to converge (status=1):\n",
      "STOP: TOTAL NO. of ITERATIONS REACHED LIMIT.\n",
      "\n",
      "Increase the number of iterations (max_iter) or scale the data as shown in:\n",
      "    https://scikit-learn.org/stable/modules/preprocessing.html\n",
      "Please also refer to the documentation for alternative solver options:\n",
      "    https://scikit-learn.org/stable/modules/linear_model.html#logistic-regression\n",
      "\n",
      "d:\\Anaconda\\envs\\env1\\lib\\site-packages\\sklearn\\linear_model\\_logistic.py:460: ConvergenceWarning:\n",
      "\n",
      "lbfgs failed to converge (status=1):\n",
      "STOP: TOTAL NO. of ITERATIONS REACHED LIMIT.\n",
      "\n",
      "Increase the number of iterations (max_iter) or scale the data as shown in:\n",
      "    https://scikit-learn.org/stable/modules/preprocessing.html\n",
      "Please also refer to the documentation for alternative solver options:\n",
      "    https://scikit-learn.org/stable/modules/linear_model.html#logistic-regression\n",
      "\n",
      "d:\\Anaconda\\envs\\env1\\lib\\site-packages\\sklearn\\linear_model\\_logistic.py:460: ConvergenceWarning:\n",
      "\n",
      "lbfgs failed to converge (status=1):\n",
      "STOP: TOTAL NO. of ITERATIONS REACHED LIMIT.\n",
      "\n",
      "Increase the number of iterations (max_iter) or scale the data as shown in:\n",
      "    https://scikit-learn.org/stable/modules/preprocessing.html\n",
      "Please also refer to the documentation for alternative solver options:\n",
      "    https://scikit-learn.org/stable/modules/linear_model.html#logistic-regression\n",
      "\n",
      "d:\\Anaconda\\envs\\env1\\lib\\site-packages\\sklearn\\linear_model\\_logistic.py:460: ConvergenceWarning:\n",
      "\n",
      "lbfgs failed to converge (status=1):\n",
      "STOP: TOTAL NO. of ITERATIONS REACHED LIMIT.\n",
      "\n",
      "Increase the number of iterations (max_iter) or scale the data as shown in:\n",
      "    https://scikit-learn.org/stable/modules/preprocessing.html\n",
      "Please also refer to the documentation for alternative solver options:\n",
      "    https://scikit-learn.org/stable/modules/linear_model.html#logistic-regression\n",
      "\n",
      "d:\\Anaconda\\envs\\env1\\lib\\site-packages\\sklearn\\linear_model\\_logistic.py:460: ConvergenceWarning:\n",
      "\n",
      "lbfgs failed to converge (status=1):\n",
      "STOP: TOTAL NO. of ITERATIONS REACHED LIMIT.\n",
      "\n",
      "Increase the number of iterations (max_iter) or scale the data as shown in:\n",
      "    https://scikit-learn.org/stable/modules/preprocessing.html\n",
      "Please also refer to the documentation for alternative solver options:\n",
      "    https://scikit-learn.org/stable/modules/linear_model.html#logistic-regression\n",
      "\n",
      "d:\\Anaconda\\envs\\env1\\lib\\site-packages\\sklearn\\linear_model\\_logistic.py:460: ConvergenceWarning:\n",
      "\n",
      "lbfgs failed to converge (status=1):\n",
      "STOP: TOTAL NO. of ITERATIONS REACHED LIMIT.\n",
      "\n",
      "Increase the number of iterations (max_iter) or scale the data as shown in:\n",
      "    https://scikit-learn.org/stable/modules/preprocessing.html\n",
      "Please also refer to the documentation for alternative solver options:\n",
      "    https://scikit-learn.org/stable/modules/linear_model.html#logistic-regression\n",
      "\n",
      "d:\\Anaconda\\envs\\env1\\lib\\site-packages\\sklearn\\linear_model\\_logistic.py:460: ConvergenceWarning:\n",
      "\n",
      "lbfgs failed to converge (status=1):\n",
      "STOP: TOTAL NO. of ITERATIONS REACHED LIMIT.\n",
      "\n",
      "Increase the number of iterations (max_iter) or scale the data as shown in:\n",
      "    https://scikit-learn.org/stable/modules/preprocessing.html\n",
      "Please also refer to the documentation for alternative solver options:\n",
      "    https://scikit-learn.org/stable/modules/linear_model.html#logistic-regression\n",
      "\n",
      "d:\\Anaconda\\envs\\env1\\lib\\site-packages\\sklearn\\linear_model\\_logistic.py:460: ConvergenceWarning:\n",
      "\n",
      "lbfgs failed to converge (status=1):\n",
      "STOP: TOTAL NO. of ITERATIONS REACHED LIMIT.\n",
      "\n",
      "Increase the number of iterations (max_iter) or scale the data as shown in:\n",
      "    https://scikit-learn.org/stable/modules/preprocessing.html\n",
      "Please also refer to the documentation for alternative solver options:\n",
      "    https://scikit-learn.org/stable/modules/linear_model.html#logistic-regression\n",
      "\n",
      "d:\\Anaconda\\envs\\env1\\lib\\site-packages\\sklearn\\linear_model\\_logistic.py:460: ConvergenceWarning:\n",
      "\n",
      "lbfgs failed to converge (status=1):\n",
      "STOP: TOTAL NO. of ITERATIONS REACHED LIMIT.\n",
      "\n",
      "Increase the number of iterations (max_iter) or scale the data as shown in:\n",
      "    https://scikit-learn.org/stable/modules/preprocessing.html\n",
      "Please also refer to the documentation for alternative solver options:\n",
      "    https://scikit-learn.org/stable/modules/linear_model.html#logistic-regression\n",
      "\n",
      "d:\\Anaconda\\envs\\env1\\lib\\site-packages\\sklearn\\linear_model\\_logistic.py:460: ConvergenceWarning:\n",
      "\n",
      "lbfgs failed to converge (status=1):\n",
      "STOP: TOTAL NO. of ITERATIONS REACHED LIMIT.\n",
      "\n",
      "Increase the number of iterations (max_iter) or scale the data as shown in:\n",
      "    https://scikit-learn.org/stable/modules/preprocessing.html\n",
      "Please also refer to the documentation for alternative solver options:\n",
      "    https://scikit-learn.org/stable/modules/linear_model.html#logistic-regression\n",
      "\n",
      "d:\\Anaconda\\envs\\env1\\lib\\site-packages\\sklearn\\linear_model\\_logistic.py:460: ConvergenceWarning:\n",
      "\n",
      "lbfgs failed to converge (status=1):\n",
      "STOP: TOTAL NO. of ITERATIONS REACHED LIMIT.\n",
      "\n",
      "Increase the number of iterations (max_iter) or scale the data as shown in:\n",
      "    https://scikit-learn.org/stable/modules/preprocessing.html\n",
      "Please also refer to the documentation for alternative solver options:\n",
      "    https://scikit-learn.org/stable/modules/linear_model.html#logistic-regression\n",
      "\n",
      "d:\\Anaconda\\envs\\env1\\lib\\site-packages\\sklearn\\linear_model\\_logistic.py:460: ConvergenceWarning:\n",
      "\n",
      "lbfgs failed to converge (status=1):\n",
      "STOP: TOTAL NO. of ITERATIONS REACHED LIMIT.\n",
      "\n",
      "Increase the number of iterations (max_iter) or scale the data as shown in:\n",
      "    https://scikit-learn.org/stable/modules/preprocessing.html\n",
      "Please also refer to the documentation for alternative solver options:\n",
      "    https://scikit-learn.org/stable/modules/linear_model.html#logistic-regression\n",
      "\n",
      "d:\\Anaconda\\envs\\env1\\lib\\site-packages\\sklearn\\linear_model\\_logistic.py:460: ConvergenceWarning:\n",
      "\n",
      "lbfgs failed to converge (status=1):\n",
      "STOP: TOTAL NO. of ITERATIONS REACHED LIMIT.\n",
      "\n",
      "Increase the number of iterations (max_iter) or scale the data as shown in:\n",
      "    https://scikit-learn.org/stable/modules/preprocessing.html\n",
      "Please also refer to the documentation for alternative solver options:\n",
      "    https://scikit-learn.org/stable/modules/linear_model.html#logistic-regression\n",
      "\n",
      "d:\\Anaconda\\envs\\env1\\lib\\site-packages\\sklearn\\linear_model\\_logistic.py:460: ConvergenceWarning:\n",
      "\n",
      "lbfgs failed to converge (status=1):\n",
      "STOP: TOTAL NO. of ITERATIONS REACHED LIMIT.\n",
      "\n",
      "Increase the number of iterations (max_iter) or scale the data as shown in:\n",
      "    https://scikit-learn.org/stable/modules/preprocessing.html\n",
      "Please also refer to the documentation for alternative solver options:\n",
      "    https://scikit-learn.org/stable/modules/linear_model.html#logistic-regression\n",
      "\n",
      "d:\\Anaconda\\envs\\env1\\lib\\site-packages\\sklearn\\linear_model\\_logistic.py:460: ConvergenceWarning:\n",
      "\n",
      "lbfgs failed to converge (status=1):\n",
      "STOP: TOTAL NO. of ITERATIONS REACHED LIMIT.\n",
      "\n",
      "Increase the number of iterations (max_iter) or scale the data as shown in:\n",
      "    https://scikit-learn.org/stable/modules/preprocessing.html\n",
      "Please also refer to the documentation for alternative solver options:\n",
      "    https://scikit-learn.org/stable/modules/linear_model.html#logistic-regression\n",
      "\n",
      "d:\\Anaconda\\envs\\env1\\lib\\site-packages\\sklearn\\linear_model\\_logistic.py:460: ConvergenceWarning:\n",
      "\n",
      "lbfgs failed to converge (status=1):\n",
      "STOP: TOTAL NO. of ITERATIONS REACHED LIMIT.\n",
      "\n",
      "Increase the number of iterations (max_iter) or scale the data as shown in:\n",
      "    https://scikit-learn.org/stable/modules/preprocessing.html\n",
      "Please also refer to the documentation for alternative solver options:\n",
      "    https://scikit-learn.org/stable/modules/linear_model.html#logistic-regression\n",
      "\n",
      "d:\\Anaconda\\envs\\env1\\lib\\site-packages\\sklearn\\linear_model\\_logistic.py:460: ConvergenceWarning:\n",
      "\n",
      "lbfgs failed to converge (status=1):\n",
      "STOP: TOTAL NO. of ITERATIONS REACHED LIMIT.\n",
      "\n",
      "Increase the number of iterations (max_iter) or scale the data as shown in:\n",
      "    https://scikit-learn.org/stable/modules/preprocessing.html\n",
      "Please also refer to the documentation for alternative solver options:\n",
      "    https://scikit-learn.org/stable/modules/linear_model.html#logistic-regression\n",
      "\n",
      "d:\\Anaconda\\envs\\env1\\lib\\site-packages\\sklearn\\linear_model\\_logistic.py:460: ConvergenceWarning:\n",
      "\n",
      "lbfgs failed to converge (status=1):\n",
      "STOP: TOTAL NO. of ITERATIONS REACHED LIMIT.\n",
      "\n",
      "Increase the number of iterations (max_iter) or scale the data as shown in:\n",
      "    https://scikit-learn.org/stable/modules/preprocessing.html\n",
      "Please also refer to the documentation for alternative solver options:\n",
      "    https://scikit-learn.org/stable/modules/linear_model.html#logistic-regression\n",
      "\n",
      "d:\\Anaconda\\envs\\env1\\lib\\site-packages\\sklearn\\linear_model\\_logistic.py:460: ConvergenceWarning:\n",
      "\n",
      "lbfgs failed to converge (status=1):\n",
      "STOP: TOTAL NO. of ITERATIONS REACHED LIMIT.\n",
      "\n",
      "Increase the number of iterations (max_iter) or scale the data as shown in:\n",
      "    https://scikit-learn.org/stable/modules/preprocessing.html\n",
      "Please also refer to the documentation for alternative solver options:\n",
      "    https://scikit-learn.org/stable/modules/linear_model.html#logistic-regression\n",
      "\n",
      "d:\\Anaconda\\envs\\env1\\lib\\site-packages\\sklearn\\linear_model\\_logistic.py:460: ConvergenceWarning:\n",
      "\n",
      "lbfgs failed to converge (status=1):\n",
      "STOP: TOTAL NO. of ITERATIONS REACHED LIMIT.\n",
      "\n",
      "Increase the number of iterations (max_iter) or scale the data as shown in:\n",
      "    https://scikit-learn.org/stable/modules/preprocessing.html\n",
      "Please also refer to the documentation for alternative solver options:\n",
      "    https://scikit-learn.org/stable/modules/linear_model.html#logistic-regression\n",
      "\n",
      "d:\\Anaconda\\envs\\env1\\lib\\site-packages\\sklearn\\linear_model\\_logistic.py:460: ConvergenceWarning:\n",
      "\n",
      "lbfgs failed to converge (status=1):\n",
      "STOP: TOTAL NO. of ITERATIONS REACHED LIMIT.\n",
      "\n",
      "Increase the number of iterations (max_iter) or scale the data as shown in:\n",
      "    https://scikit-learn.org/stable/modules/preprocessing.html\n",
      "Please also refer to the documentation for alternative solver options:\n",
      "    https://scikit-learn.org/stable/modules/linear_model.html#logistic-regression\n",
      "\n",
      "d:\\Anaconda\\envs\\env1\\lib\\site-packages\\sklearn\\linear_model\\_logistic.py:460: ConvergenceWarning:\n",
      "\n",
      "lbfgs failed to converge (status=1):\n",
      "STOP: TOTAL NO. of ITERATIONS REACHED LIMIT.\n",
      "\n",
      "Increase the number of iterations (max_iter) or scale the data as shown in:\n",
      "    https://scikit-learn.org/stable/modules/preprocessing.html\n",
      "Please also refer to the documentation for alternative solver options:\n",
      "    https://scikit-learn.org/stable/modules/linear_model.html#logistic-regression\n",
      "\n",
      "d:\\Anaconda\\envs\\env1\\lib\\site-packages\\sklearn\\linear_model\\_logistic.py:460: ConvergenceWarning:\n",
      "\n",
      "lbfgs failed to converge (status=1):\n",
      "STOP: TOTAL NO. of ITERATIONS REACHED LIMIT.\n",
      "\n",
      "Increase the number of iterations (max_iter) or scale the data as shown in:\n",
      "    https://scikit-learn.org/stable/modules/preprocessing.html\n",
      "Please also refer to the documentation for alternative solver options:\n",
      "    https://scikit-learn.org/stable/modules/linear_model.html#logistic-regression\n",
      "\n",
      "d:\\Anaconda\\envs\\env1\\lib\\site-packages\\sklearn\\linear_model\\_logistic.py:460: ConvergenceWarning:\n",
      "\n",
      "lbfgs failed to converge (status=1):\n",
      "STOP: TOTAL NO. of ITERATIONS REACHED LIMIT.\n",
      "\n",
      "Increase the number of iterations (max_iter) or scale the data as shown in:\n",
      "    https://scikit-learn.org/stable/modules/preprocessing.html\n",
      "Please also refer to the documentation for alternative solver options:\n",
      "    https://scikit-learn.org/stable/modules/linear_model.html#logistic-regression\n",
      "\n",
      "d:\\Anaconda\\envs\\env1\\lib\\site-packages\\sklearn\\linear_model\\_logistic.py:460: ConvergenceWarning:\n",
      "\n",
      "lbfgs failed to converge (status=1):\n",
      "STOP: TOTAL NO. of ITERATIONS REACHED LIMIT.\n",
      "\n",
      "Increase the number of iterations (max_iter) or scale the data as shown in:\n",
      "    https://scikit-learn.org/stable/modules/preprocessing.html\n",
      "Please also refer to the documentation for alternative solver options:\n",
      "    https://scikit-learn.org/stable/modules/linear_model.html#logistic-regression\n",
      "\n",
      "d:\\Anaconda\\envs\\env1\\lib\\site-packages\\sklearn\\linear_model\\_logistic.py:460: ConvergenceWarning:\n",
      "\n",
      "lbfgs failed to converge (status=1):\n",
      "STOP: TOTAL NO. of ITERATIONS REACHED LIMIT.\n",
      "\n",
      "Increase the number of iterations (max_iter) or scale the data as shown in:\n",
      "    https://scikit-learn.org/stable/modules/preprocessing.html\n",
      "Please also refer to the documentation for alternative solver options:\n",
      "    https://scikit-learn.org/stable/modules/linear_model.html#logistic-regression\n",
      "\n",
      "d:\\Anaconda\\envs\\env1\\lib\\site-packages\\sklearn\\linear_model\\_logistic.py:460: ConvergenceWarning:\n",
      "\n",
      "lbfgs failed to converge (status=1):\n",
      "STOP: TOTAL NO. of ITERATIONS REACHED LIMIT.\n",
      "\n",
      "Increase the number of iterations (max_iter) or scale the data as shown in:\n",
      "    https://scikit-learn.org/stable/modules/preprocessing.html\n",
      "Please also refer to the documentation for alternative solver options:\n",
      "    https://scikit-learn.org/stable/modules/linear_model.html#logistic-regression\n",
      "\n",
      "d:\\Anaconda\\envs\\env1\\lib\\site-packages\\sklearn\\linear_model\\_logistic.py:460: ConvergenceWarning:\n",
      "\n",
      "lbfgs failed to converge (status=1):\n",
      "STOP: TOTAL NO. of ITERATIONS REACHED LIMIT.\n",
      "\n",
      "Increase the number of iterations (max_iter) or scale the data as shown in:\n",
      "    https://scikit-learn.org/stable/modules/preprocessing.html\n",
      "Please also refer to the documentation for alternative solver options:\n",
      "    https://scikit-learn.org/stable/modules/linear_model.html#logistic-regression\n",
      "\n",
      "d:\\Anaconda\\envs\\env1\\lib\\site-packages\\sklearn\\linear_model\\_logistic.py:460: ConvergenceWarning:\n",
      "\n",
      "lbfgs failed to converge (status=1):\n",
      "STOP: TOTAL NO. of ITERATIONS REACHED LIMIT.\n",
      "\n",
      "Increase the number of iterations (max_iter) or scale the data as shown in:\n",
      "    https://scikit-learn.org/stable/modules/preprocessing.html\n",
      "Please also refer to the documentation for alternative solver options:\n",
      "    https://scikit-learn.org/stable/modules/linear_model.html#logistic-regression\n",
      "\n",
      "d:\\Anaconda\\envs\\env1\\lib\\site-packages\\sklearn\\linear_model\\_logistic.py:460: ConvergenceWarning:\n",
      "\n",
      "lbfgs failed to converge (status=1):\n",
      "STOP: TOTAL NO. of ITERATIONS REACHED LIMIT.\n",
      "\n",
      "Increase the number of iterations (max_iter) or scale the data as shown in:\n",
      "    https://scikit-learn.org/stable/modules/preprocessing.html\n",
      "Please also refer to the documentation for alternative solver options:\n",
      "    https://scikit-learn.org/stable/modules/linear_model.html#logistic-regression\n",
      "\n"
     ]
    },
    {
     "name": "stdout",
     "output_type": "stream",
     "text": [
      "Selected features: ['URLLength', 'IsHTTPS']\n"
     ]
    }
   ],
   "source": [
    "from sklearn.feature_selection import RFE\n",
    "from sklearn.linear_model import LogisticRegression\n",
    "from sklearn.datasets import load_iris\n",
    "from sklearn.model_selection import train_test_split\n",
    "from sklearn.model_selection import cross_val_score\n",
    "\n",
    "X = df.drop([\"label\",\"TLD\"],axis=1)\n",
    "y = df[\"label\"]\n",
    "X_train, X_test, y_train, y_test = train_test_split(X, y, test_size=0.3, random_state=42)\n",
    "\n",
    "model = LogisticRegression(max_iter=200)\n",
    "\n",
    "# Initialize RFE with the model and specify the number of features to select\n",
    "num_features_to_select = 2  # Specify the number of features you want to select\n",
    "rfe = RFE(model, n_features_to_select=num_features_to_select)\n",
    "\n",
    "# Fit RFE\n",
    "rfe.fit(X_train, y_train)\n",
    "\n",
    "# Check if X_train is a DataFrame\n",
    "if isinstance(X_train, pd.DataFrame):\n",
    "    # Get the selected feature names directly\n",
    "    selected_features = X_train.columns[rfe.support_]\n",
    "else:\n",
    "    # Convert X_train to a DataFrame to get column names\n",
    "    X_train_df = pd.DataFrame(X_train, columns=X.columns)\n",
    "    selected_features = X_train_df.columns[rfe.support_]\n",
    "\n",
    "# Print selected feature names\n",
    "print(f\"Selected features: {selected_features.tolist()}\")"
   ]
  },
  {
   "cell_type": "code",
   "execution_count": 15,
   "metadata": {},
   "outputs": [],
   "source": [
    "backward_X = X[selected_columns1] # contains columns selected by backward elimination\n",
    "corr_X = X[selected_columns] # contains columns selected by correlation "
   ]
  },
  {
   "cell_type": "markdown",
   "metadata": {},
   "source": [
    "# One-Hot encoding for TLD column "
   ]
  },
  {
   "cell_type": "code",
   "execution_count": 16,
   "metadata": {},
   "outputs": [
    {
     "name": "stdout",
     "output_type": "stream",
     "text": [
      "        TLD_100  TLD_101  TLD_103  TLD_106  TLD_107  TLD_108  TLD_11  TLD_110  \\\n",
      "0           0.0      0.0      0.0      0.0      0.0      0.0     0.0      0.0   \n",
      "1           0.0      0.0      0.0      0.0      0.0      0.0     0.0      0.0   \n",
      "2           0.0      0.0      0.0      0.0      0.0      0.0     0.0      0.0   \n",
      "3           0.0      0.0      0.0      0.0      0.0      0.0     0.0      0.0   \n",
      "4           0.0      0.0      0.0      0.0      0.0      0.0     0.0      0.0   \n",
      "...         ...      ...      ...      ...      ...      ...     ...      ...   \n",
      "235790      0.0      0.0      0.0      0.0      0.0      0.0     0.0      0.0   \n",
      "235791      0.0      0.0      0.0      0.0      0.0      0.0     0.0      0.0   \n",
      "235792      0.0      0.0      0.0      0.0      0.0      0.0     0.0      0.0   \n",
      "235793      0.0      0.0      0.0      0.0      0.0      0.0     0.0      0.0   \n",
      "235794      0.0      0.0      0.0      0.0      0.0      0.0     0.0      0.0   \n",
      "\n",
      "        TLD_111  TLD_116  ...  TLD_xyz  TLD_yachts  TLD_ye  TLD_yoga  \\\n",
      "0           0.0      0.0  ...      0.0         0.0     0.0       0.0   \n",
      "1           0.0      0.0  ...      0.0         0.0     0.0       0.0   \n",
      "2           0.0      0.0  ...      0.0         0.0     0.0       0.0   \n",
      "3           0.0      0.0  ...      0.0         0.0     0.0       0.0   \n",
      "4           0.0      0.0  ...      0.0         0.0     0.0       0.0   \n",
      "...         ...      ...  ...      ...         ...     ...       ...   \n",
      "235790      0.0      0.0  ...      0.0         0.0     0.0       0.0   \n",
      "235791      0.0      0.0  ...      0.0         0.0     0.0       0.0   \n",
      "235792      0.0      0.0  ...      0.0         0.0     0.0       0.0   \n",
      "235793      0.0      0.0  ...      0.0         0.0     0.0       0.0   \n",
      "235794      0.0      0.0  ...      0.0         0.0     0.0       0.0   \n",
      "\n",
      "        TLD_youtube  TLD_yt  TLD_za  TLD_zm  TLD_zone  TLD_zw  \n",
      "0               0.0     0.0     0.0     0.0       0.0     0.0  \n",
      "1               0.0     0.0     0.0     0.0       0.0     0.0  \n",
      "2               0.0     0.0     0.0     0.0       0.0     0.0  \n",
      "3               0.0     0.0     0.0     0.0       0.0     0.0  \n",
      "4               0.0     0.0     0.0     0.0       0.0     0.0  \n",
      "...             ...     ...     ...     ...       ...     ...  \n",
      "235790          0.0     0.0     0.0     0.0       0.0     0.0  \n",
      "235791          0.0     0.0     0.0     0.0       0.0     0.0  \n",
      "235792          0.0     0.0     0.0     0.0       0.0     0.0  \n",
      "235793          0.0     0.0     0.0     0.0       0.0     0.0  \n",
      "235794          0.0     0.0     0.0     0.0       0.0     0.0  \n",
      "\n",
      "[235795 rows x 695 columns]\n"
     ]
    }
   ],
   "source": [
    "from sklearn.preprocessing import OneHotEncoder\n",
    "one = OneHotEncoder(sparse_output=False)\n",
    "\n",
    "tld = pd.DataFrame(df[\"TLD\"])\n",
    "\n",
    "TLD_encoded = one.fit_transform(tld)\n",
    "# Convert the result to a DataFrame with appropriate column names\n",
    "TLD_encoded_df = pd.DataFrame(TLD_encoded, columns=one.get_feature_names_out(['TLD']))\n",
    "\n",
    "print(TLD_encoded_df)"
   ]
  },
  {
   "cell_type": "code",
   "execution_count": 17,
   "metadata": {},
   "outputs": [
    {
     "data": {
      "text/html": [
       "<div>\n",
       "<style scoped>\n",
       "    .dataframe tbody tr th:only-of-type {\n",
       "        vertical-align: middle;\n",
       "    }\n",
       "\n",
       "    .dataframe tbody tr th {\n",
       "        vertical-align: top;\n",
       "    }\n",
       "\n",
       "    .dataframe thead th {\n",
       "        text-align: right;\n",
       "    }\n",
       "</style>\n",
       "<table border=\"1\" class=\"dataframe\">\n",
       "  <thead>\n",
       "    <tr style=\"text-align: right;\">\n",
       "      <th></th>\n",
       "      <th>URLLength</th>\n",
       "      <th>DomainLength</th>\n",
       "      <th>IsDomainIP</th>\n",
       "      <th>URLSimilarityIndex</th>\n",
       "      <th>CharContinuationRate</th>\n",
       "      <th>TLDLegitimateProb</th>\n",
       "      <th>URLCharProb</th>\n",
       "      <th>TLDLength</th>\n",
       "      <th>NoOfSubDomain</th>\n",
       "      <th>HasObfuscation</th>\n",
       "      <th>...</th>\n",
       "      <th>TLD_xyz</th>\n",
       "      <th>TLD_yachts</th>\n",
       "      <th>TLD_ye</th>\n",
       "      <th>TLD_yoga</th>\n",
       "      <th>TLD_youtube</th>\n",
       "      <th>TLD_yt</th>\n",
       "      <th>TLD_za</th>\n",
       "      <th>TLD_zm</th>\n",
       "      <th>TLD_zone</th>\n",
       "      <th>TLD_zw</th>\n",
       "    </tr>\n",
       "  </thead>\n",
       "  <tbody>\n",
       "    <tr>\n",
       "      <th>0</th>\n",
       "      <td>31</td>\n",
       "      <td>24</td>\n",
       "      <td>0</td>\n",
       "      <td>100.000000</td>\n",
       "      <td>1.000000</td>\n",
       "      <td>0.522907</td>\n",
       "      <td>0.061933</td>\n",
       "      <td>3</td>\n",
       "      <td>1</td>\n",
       "      <td>0</td>\n",
       "      <td>...</td>\n",
       "      <td>0.0</td>\n",
       "      <td>0.0</td>\n",
       "      <td>0.0</td>\n",
       "      <td>0.0</td>\n",
       "      <td>0.0</td>\n",
       "      <td>0.0</td>\n",
       "      <td>0.0</td>\n",
       "      <td>0.0</td>\n",
       "      <td>0.0</td>\n",
       "      <td>0.0</td>\n",
       "    </tr>\n",
       "    <tr>\n",
       "      <th>1</th>\n",
       "      <td>23</td>\n",
       "      <td>16</td>\n",
       "      <td>0</td>\n",
       "      <td>100.000000</td>\n",
       "      <td>0.666667</td>\n",
       "      <td>0.032650</td>\n",
       "      <td>0.050207</td>\n",
       "      <td>2</td>\n",
       "      <td>1</td>\n",
       "      <td>0</td>\n",
       "      <td>...</td>\n",
       "      <td>0.0</td>\n",
       "      <td>0.0</td>\n",
       "      <td>0.0</td>\n",
       "      <td>0.0</td>\n",
       "      <td>0.0</td>\n",
       "      <td>0.0</td>\n",
       "      <td>0.0</td>\n",
       "      <td>0.0</td>\n",
       "      <td>0.0</td>\n",
       "      <td>0.0</td>\n",
       "    </tr>\n",
       "    <tr>\n",
       "      <th>2</th>\n",
       "      <td>29</td>\n",
       "      <td>22</td>\n",
       "      <td>0</td>\n",
       "      <td>100.000000</td>\n",
       "      <td>0.866667</td>\n",
       "      <td>0.028555</td>\n",
       "      <td>0.064129</td>\n",
       "      <td>2</td>\n",
       "      <td>2</td>\n",
       "      <td>0</td>\n",
       "      <td>...</td>\n",
       "      <td>0.0</td>\n",
       "      <td>0.0</td>\n",
       "      <td>0.0</td>\n",
       "      <td>0.0</td>\n",
       "      <td>0.0</td>\n",
       "      <td>0.0</td>\n",
       "      <td>0.0</td>\n",
       "      <td>0.0</td>\n",
       "      <td>0.0</td>\n",
       "      <td>0.0</td>\n",
       "    </tr>\n",
       "    <tr>\n",
       "      <th>3</th>\n",
       "      <td>26</td>\n",
       "      <td>19</td>\n",
       "      <td>0</td>\n",
       "      <td>100.000000</td>\n",
       "      <td>1.000000</td>\n",
       "      <td>0.522907</td>\n",
       "      <td>0.057606</td>\n",
       "      <td>3</td>\n",
       "      <td>1</td>\n",
       "      <td>0</td>\n",
       "      <td>...</td>\n",
       "      <td>0.0</td>\n",
       "      <td>0.0</td>\n",
       "      <td>0.0</td>\n",
       "      <td>0.0</td>\n",
       "      <td>0.0</td>\n",
       "      <td>0.0</td>\n",
       "      <td>0.0</td>\n",
       "      <td>0.0</td>\n",
       "      <td>0.0</td>\n",
       "      <td>0.0</td>\n",
       "    </tr>\n",
       "    <tr>\n",
       "      <th>4</th>\n",
       "      <td>33</td>\n",
       "      <td>26</td>\n",
       "      <td>0</td>\n",
       "      <td>100.000000</td>\n",
       "      <td>1.000000</td>\n",
       "      <td>0.079963</td>\n",
       "      <td>0.059441</td>\n",
       "      <td>3</td>\n",
       "      <td>1</td>\n",
       "      <td>0</td>\n",
       "      <td>...</td>\n",
       "      <td>0.0</td>\n",
       "      <td>0.0</td>\n",
       "      <td>0.0</td>\n",
       "      <td>0.0</td>\n",
       "      <td>0.0</td>\n",
       "      <td>0.0</td>\n",
       "      <td>0.0</td>\n",
       "      <td>0.0</td>\n",
       "      <td>0.0</td>\n",
       "      <td>0.0</td>\n",
       "    </tr>\n",
       "    <tr>\n",
       "      <th>...</th>\n",
       "      <td>...</td>\n",
       "      <td>...</td>\n",
       "      <td>...</td>\n",
       "      <td>...</td>\n",
       "      <td>...</td>\n",
       "      <td>...</td>\n",
       "      <td>...</td>\n",
       "      <td>...</td>\n",
       "      <td>...</td>\n",
       "      <td>...</td>\n",
       "      <td>...</td>\n",
       "      <td>...</td>\n",
       "      <td>...</td>\n",
       "      <td>...</td>\n",
       "      <td>...</td>\n",
       "      <td>...</td>\n",
       "      <td>...</td>\n",
       "      <td>...</td>\n",
       "      <td>...</td>\n",
       "      <td>...</td>\n",
       "      <td>...</td>\n",
       "    </tr>\n",
       "    <tr>\n",
       "      <th>235790</th>\n",
       "      <td>29</td>\n",
       "      <td>22</td>\n",
       "      <td>0</td>\n",
       "      <td>100.000000</td>\n",
       "      <td>1.000000</td>\n",
       "      <td>0.522907</td>\n",
       "      <td>0.058739</td>\n",
       "      <td>3</td>\n",
       "      <td>1</td>\n",
       "      <td>0</td>\n",
       "      <td>...</td>\n",
       "      <td>0.0</td>\n",
       "      <td>0.0</td>\n",
       "      <td>0.0</td>\n",
       "      <td>0.0</td>\n",
       "      <td>0.0</td>\n",
       "      <td>0.0</td>\n",
       "      <td>0.0</td>\n",
       "      <td>0.0</td>\n",
       "      <td>0.0</td>\n",
       "      <td>0.0</td>\n",
       "    </tr>\n",
       "    <tr>\n",
       "      <th>235791</th>\n",
       "      <td>28</td>\n",
       "      <td>21</td>\n",
       "      <td>0</td>\n",
       "      <td>100.000000</td>\n",
       "      <td>0.785714</td>\n",
       "      <td>0.028555</td>\n",
       "      <td>0.053834</td>\n",
       "      <td>2</td>\n",
       "      <td>2</td>\n",
       "      <td>0</td>\n",
       "      <td>...</td>\n",
       "      <td>0.0</td>\n",
       "      <td>0.0</td>\n",
       "      <td>0.0</td>\n",
       "      <td>0.0</td>\n",
       "      <td>0.0</td>\n",
       "      <td>0.0</td>\n",
       "      <td>0.0</td>\n",
       "      <td>0.0</td>\n",
       "      <td>0.0</td>\n",
       "      <td>0.0</td>\n",
       "    </tr>\n",
       "    <tr>\n",
       "      <th>235792</th>\n",
       "      <td>30</td>\n",
       "      <td>23</td>\n",
       "      <td>0</td>\n",
       "      <td>100.000000</td>\n",
       "      <td>1.000000</td>\n",
       "      <td>0.003319</td>\n",
       "      <td>0.063093</td>\n",
       "      <td>2</td>\n",
       "      <td>1</td>\n",
       "      <td>0</td>\n",
       "      <td>...</td>\n",
       "      <td>0.0</td>\n",
       "      <td>0.0</td>\n",
       "      <td>0.0</td>\n",
       "      <td>0.0</td>\n",
       "      <td>0.0</td>\n",
       "      <td>0.0</td>\n",
       "      <td>0.0</td>\n",
       "      <td>0.0</td>\n",
       "      <td>0.0</td>\n",
       "      <td>0.0</td>\n",
       "    </tr>\n",
       "    <tr>\n",
       "      <th>235793</th>\n",
       "      <td>55</td>\n",
       "      <td>47</td>\n",
       "      <td>0</td>\n",
       "      <td>28.157537</td>\n",
       "      <td>0.465116</td>\n",
       "      <td>0.000961</td>\n",
       "      <td>0.050211</td>\n",
       "      <td>3</td>\n",
       "      <td>2</td>\n",
       "      <td>0</td>\n",
       "      <td>...</td>\n",
       "      <td>0.0</td>\n",
       "      <td>0.0</td>\n",
       "      <td>0.0</td>\n",
       "      <td>0.0</td>\n",
       "      <td>0.0</td>\n",
       "      <td>0.0</td>\n",
       "      <td>0.0</td>\n",
       "      <td>0.0</td>\n",
       "      <td>0.0</td>\n",
       "      <td>0.0</td>\n",
       "    </tr>\n",
       "    <tr>\n",
       "      <th>235794</th>\n",
       "      <td>33</td>\n",
       "      <td>26</td>\n",
       "      <td>0</td>\n",
       "      <td>100.000000</td>\n",
       "      <td>1.000000</td>\n",
       "      <td>0.522907</td>\n",
       "      <td>0.060596</td>\n",
       "      <td>3</td>\n",
       "      <td>1</td>\n",
       "      <td>0</td>\n",
       "      <td>...</td>\n",
       "      <td>0.0</td>\n",
       "      <td>0.0</td>\n",
       "      <td>0.0</td>\n",
       "      <td>0.0</td>\n",
       "      <td>0.0</td>\n",
       "      <td>0.0</td>\n",
       "      <td>0.0</td>\n",
       "      <td>0.0</td>\n",
       "      <td>0.0</td>\n",
       "      <td>0.0</td>\n",
       "    </tr>\n",
       "  </tbody>\n",
       "</table>\n",
       "<p>235795 rows × 736 columns</p>\n",
       "</div>"
      ],
      "text/plain": [
       "        URLLength  DomainLength  IsDomainIP  URLSimilarityIndex  \\\n",
       "0              31            24           0          100.000000   \n",
       "1              23            16           0          100.000000   \n",
       "2              29            22           0          100.000000   \n",
       "3              26            19           0          100.000000   \n",
       "4              33            26           0          100.000000   \n",
       "...           ...           ...         ...                 ...   \n",
       "235790         29            22           0          100.000000   \n",
       "235791         28            21           0          100.000000   \n",
       "235792         30            23           0          100.000000   \n",
       "235793         55            47           0           28.157537   \n",
       "235794         33            26           0          100.000000   \n",
       "\n",
       "        CharContinuationRate  TLDLegitimateProb  URLCharProb  TLDLength  \\\n",
       "0                   1.000000           0.522907     0.061933          3   \n",
       "1                   0.666667           0.032650     0.050207          2   \n",
       "2                   0.866667           0.028555     0.064129          2   \n",
       "3                   1.000000           0.522907     0.057606          3   \n",
       "4                   1.000000           0.079963     0.059441          3   \n",
       "...                      ...                ...          ...        ...   \n",
       "235790              1.000000           0.522907     0.058739          3   \n",
       "235791              0.785714           0.028555     0.053834          2   \n",
       "235792              1.000000           0.003319     0.063093          2   \n",
       "235793              0.465116           0.000961     0.050211          3   \n",
       "235794              1.000000           0.522907     0.060596          3   \n",
       "\n",
       "        NoOfSubDomain  HasObfuscation  ...  TLD_xyz  TLD_yachts  TLD_ye  \\\n",
       "0                   1               0  ...      0.0         0.0     0.0   \n",
       "1                   1               0  ...      0.0         0.0     0.0   \n",
       "2                   2               0  ...      0.0         0.0     0.0   \n",
       "3                   1               0  ...      0.0         0.0     0.0   \n",
       "4                   1               0  ...      0.0         0.0     0.0   \n",
       "...               ...             ...  ...      ...         ...     ...   \n",
       "235790              1               0  ...      0.0         0.0     0.0   \n",
       "235791              2               0  ...      0.0         0.0     0.0   \n",
       "235792              1               0  ...      0.0         0.0     0.0   \n",
       "235793              2               0  ...      0.0         0.0     0.0   \n",
       "235794              1               0  ...      0.0         0.0     0.0   \n",
       "\n",
       "        TLD_yoga  TLD_youtube  TLD_yt  TLD_za  TLD_zm  TLD_zone  TLD_zw  \n",
       "0            0.0          0.0     0.0     0.0     0.0       0.0     0.0  \n",
       "1            0.0          0.0     0.0     0.0     0.0       0.0     0.0  \n",
       "2            0.0          0.0     0.0     0.0     0.0       0.0     0.0  \n",
       "3            0.0          0.0     0.0     0.0     0.0       0.0     0.0  \n",
       "4            0.0          0.0     0.0     0.0     0.0       0.0     0.0  \n",
       "...          ...          ...     ...     ...     ...       ...     ...  \n",
       "235790       0.0          0.0     0.0     0.0     0.0       0.0     0.0  \n",
       "235791       0.0          0.0     0.0     0.0     0.0       0.0     0.0  \n",
       "235792       0.0          0.0     0.0     0.0     0.0       0.0     0.0  \n",
       "235793       0.0          0.0     0.0     0.0     0.0       0.0     0.0  \n",
       "235794       0.0          0.0     0.0     0.0     0.0       0.0     0.0  \n",
       "\n",
       "[235795 rows x 736 columns]"
      ]
     },
     "execution_count": 17,
     "metadata": {},
     "output_type": "execute_result"
    }
   ],
   "source": [
    "backward_updated = pd.merge(backward_X,TLD_encoded_df,left_index=True, right_index=True)\n",
    "backward_updated # contains encoded tld column"
   ]
  },
  {
   "cell_type": "code",
   "execution_count": 18,
   "metadata": {},
   "outputs": [
    {
     "data": {
      "text/html": [
       "<div>\n",
       "<style scoped>\n",
       "    .dataframe tbody tr th:only-of-type {\n",
       "        vertical-align: middle;\n",
       "    }\n",
       "\n",
       "    .dataframe tbody tr th {\n",
       "        vertical-align: top;\n",
       "    }\n",
       "\n",
       "    .dataframe thead th {\n",
       "        text-align: right;\n",
       "    }\n",
       "</style>\n",
       "<table border=\"1\" class=\"dataframe\">\n",
       "  <thead>\n",
       "    <tr style=\"text-align: right;\">\n",
       "      <th></th>\n",
       "      <th>URLLength</th>\n",
       "      <th>DomainLength</th>\n",
       "      <th>IsDomainIP</th>\n",
       "      <th>URLSimilarityIndex</th>\n",
       "      <th>CharContinuationRate</th>\n",
       "      <th>TLDLegitimateProb</th>\n",
       "      <th>URLCharProb</th>\n",
       "      <th>TLDLength</th>\n",
       "      <th>NoOfSubDomain</th>\n",
       "      <th>HasObfuscation</th>\n",
       "      <th>...</th>\n",
       "      <th>TLD_xyz</th>\n",
       "      <th>TLD_yachts</th>\n",
       "      <th>TLD_ye</th>\n",
       "      <th>TLD_yoga</th>\n",
       "      <th>TLD_youtube</th>\n",
       "      <th>TLD_yt</th>\n",
       "      <th>TLD_za</th>\n",
       "      <th>TLD_zm</th>\n",
       "      <th>TLD_zone</th>\n",
       "      <th>TLD_zw</th>\n",
       "    </tr>\n",
       "  </thead>\n",
       "  <tbody>\n",
       "    <tr>\n",
       "      <th>0</th>\n",
       "      <td>31</td>\n",
       "      <td>24</td>\n",
       "      <td>0</td>\n",
       "      <td>100.000000</td>\n",
       "      <td>1.000000</td>\n",
       "      <td>0.522907</td>\n",
       "      <td>0.061933</td>\n",
       "      <td>3</td>\n",
       "      <td>1</td>\n",
       "      <td>0</td>\n",
       "      <td>...</td>\n",
       "      <td>0.0</td>\n",
       "      <td>0.0</td>\n",
       "      <td>0.0</td>\n",
       "      <td>0.0</td>\n",
       "      <td>0.0</td>\n",
       "      <td>0.0</td>\n",
       "      <td>0.0</td>\n",
       "      <td>0.0</td>\n",
       "      <td>0.0</td>\n",
       "      <td>0.0</td>\n",
       "    </tr>\n",
       "    <tr>\n",
       "      <th>1</th>\n",
       "      <td>23</td>\n",
       "      <td>16</td>\n",
       "      <td>0</td>\n",
       "      <td>100.000000</td>\n",
       "      <td>0.666667</td>\n",
       "      <td>0.032650</td>\n",
       "      <td>0.050207</td>\n",
       "      <td>2</td>\n",
       "      <td>1</td>\n",
       "      <td>0</td>\n",
       "      <td>...</td>\n",
       "      <td>0.0</td>\n",
       "      <td>0.0</td>\n",
       "      <td>0.0</td>\n",
       "      <td>0.0</td>\n",
       "      <td>0.0</td>\n",
       "      <td>0.0</td>\n",
       "      <td>0.0</td>\n",
       "      <td>0.0</td>\n",
       "      <td>0.0</td>\n",
       "      <td>0.0</td>\n",
       "    </tr>\n",
       "    <tr>\n",
       "      <th>2</th>\n",
       "      <td>29</td>\n",
       "      <td>22</td>\n",
       "      <td>0</td>\n",
       "      <td>100.000000</td>\n",
       "      <td>0.866667</td>\n",
       "      <td>0.028555</td>\n",
       "      <td>0.064129</td>\n",
       "      <td>2</td>\n",
       "      <td>2</td>\n",
       "      <td>0</td>\n",
       "      <td>...</td>\n",
       "      <td>0.0</td>\n",
       "      <td>0.0</td>\n",
       "      <td>0.0</td>\n",
       "      <td>0.0</td>\n",
       "      <td>0.0</td>\n",
       "      <td>0.0</td>\n",
       "      <td>0.0</td>\n",
       "      <td>0.0</td>\n",
       "      <td>0.0</td>\n",
       "      <td>0.0</td>\n",
       "    </tr>\n",
       "    <tr>\n",
       "      <th>3</th>\n",
       "      <td>26</td>\n",
       "      <td>19</td>\n",
       "      <td>0</td>\n",
       "      <td>100.000000</td>\n",
       "      <td>1.000000</td>\n",
       "      <td>0.522907</td>\n",
       "      <td>0.057606</td>\n",
       "      <td>3</td>\n",
       "      <td>1</td>\n",
       "      <td>0</td>\n",
       "      <td>...</td>\n",
       "      <td>0.0</td>\n",
       "      <td>0.0</td>\n",
       "      <td>0.0</td>\n",
       "      <td>0.0</td>\n",
       "      <td>0.0</td>\n",
       "      <td>0.0</td>\n",
       "      <td>0.0</td>\n",
       "      <td>0.0</td>\n",
       "      <td>0.0</td>\n",
       "      <td>0.0</td>\n",
       "    </tr>\n",
       "    <tr>\n",
       "      <th>4</th>\n",
       "      <td>33</td>\n",
       "      <td>26</td>\n",
       "      <td>0</td>\n",
       "      <td>100.000000</td>\n",
       "      <td>1.000000</td>\n",
       "      <td>0.079963</td>\n",
       "      <td>0.059441</td>\n",
       "      <td>3</td>\n",
       "      <td>1</td>\n",
       "      <td>0</td>\n",
       "      <td>...</td>\n",
       "      <td>0.0</td>\n",
       "      <td>0.0</td>\n",
       "      <td>0.0</td>\n",
       "      <td>0.0</td>\n",
       "      <td>0.0</td>\n",
       "      <td>0.0</td>\n",
       "      <td>0.0</td>\n",
       "      <td>0.0</td>\n",
       "      <td>0.0</td>\n",
       "      <td>0.0</td>\n",
       "    </tr>\n",
       "    <tr>\n",
       "      <th>...</th>\n",
       "      <td>...</td>\n",
       "      <td>...</td>\n",
       "      <td>...</td>\n",
       "      <td>...</td>\n",
       "      <td>...</td>\n",
       "      <td>...</td>\n",
       "      <td>...</td>\n",
       "      <td>...</td>\n",
       "      <td>...</td>\n",
       "      <td>...</td>\n",
       "      <td>...</td>\n",
       "      <td>...</td>\n",
       "      <td>...</td>\n",
       "      <td>...</td>\n",
       "      <td>...</td>\n",
       "      <td>...</td>\n",
       "      <td>...</td>\n",
       "      <td>...</td>\n",
       "      <td>...</td>\n",
       "      <td>...</td>\n",
       "      <td>...</td>\n",
       "    </tr>\n",
       "    <tr>\n",
       "      <th>235790</th>\n",
       "      <td>29</td>\n",
       "      <td>22</td>\n",
       "      <td>0</td>\n",
       "      <td>100.000000</td>\n",
       "      <td>1.000000</td>\n",
       "      <td>0.522907</td>\n",
       "      <td>0.058739</td>\n",
       "      <td>3</td>\n",
       "      <td>1</td>\n",
       "      <td>0</td>\n",
       "      <td>...</td>\n",
       "      <td>0.0</td>\n",
       "      <td>0.0</td>\n",
       "      <td>0.0</td>\n",
       "      <td>0.0</td>\n",
       "      <td>0.0</td>\n",
       "      <td>0.0</td>\n",
       "      <td>0.0</td>\n",
       "      <td>0.0</td>\n",
       "      <td>0.0</td>\n",
       "      <td>0.0</td>\n",
       "    </tr>\n",
       "    <tr>\n",
       "      <th>235791</th>\n",
       "      <td>28</td>\n",
       "      <td>21</td>\n",
       "      <td>0</td>\n",
       "      <td>100.000000</td>\n",
       "      <td>0.785714</td>\n",
       "      <td>0.028555</td>\n",
       "      <td>0.053834</td>\n",
       "      <td>2</td>\n",
       "      <td>2</td>\n",
       "      <td>0</td>\n",
       "      <td>...</td>\n",
       "      <td>0.0</td>\n",
       "      <td>0.0</td>\n",
       "      <td>0.0</td>\n",
       "      <td>0.0</td>\n",
       "      <td>0.0</td>\n",
       "      <td>0.0</td>\n",
       "      <td>0.0</td>\n",
       "      <td>0.0</td>\n",
       "      <td>0.0</td>\n",
       "      <td>0.0</td>\n",
       "    </tr>\n",
       "    <tr>\n",
       "      <th>235792</th>\n",
       "      <td>30</td>\n",
       "      <td>23</td>\n",
       "      <td>0</td>\n",
       "      <td>100.000000</td>\n",
       "      <td>1.000000</td>\n",
       "      <td>0.003319</td>\n",
       "      <td>0.063093</td>\n",
       "      <td>2</td>\n",
       "      <td>1</td>\n",
       "      <td>0</td>\n",
       "      <td>...</td>\n",
       "      <td>0.0</td>\n",
       "      <td>0.0</td>\n",
       "      <td>0.0</td>\n",
       "      <td>0.0</td>\n",
       "      <td>0.0</td>\n",
       "      <td>0.0</td>\n",
       "      <td>0.0</td>\n",
       "      <td>0.0</td>\n",
       "      <td>0.0</td>\n",
       "      <td>0.0</td>\n",
       "    </tr>\n",
       "    <tr>\n",
       "      <th>235793</th>\n",
       "      <td>55</td>\n",
       "      <td>47</td>\n",
       "      <td>0</td>\n",
       "      <td>28.157537</td>\n",
       "      <td>0.465116</td>\n",
       "      <td>0.000961</td>\n",
       "      <td>0.050211</td>\n",
       "      <td>3</td>\n",
       "      <td>2</td>\n",
       "      <td>0</td>\n",
       "      <td>...</td>\n",
       "      <td>0.0</td>\n",
       "      <td>0.0</td>\n",
       "      <td>0.0</td>\n",
       "      <td>0.0</td>\n",
       "      <td>0.0</td>\n",
       "      <td>0.0</td>\n",
       "      <td>0.0</td>\n",
       "      <td>0.0</td>\n",
       "      <td>0.0</td>\n",
       "      <td>0.0</td>\n",
       "    </tr>\n",
       "    <tr>\n",
       "      <th>235794</th>\n",
       "      <td>33</td>\n",
       "      <td>26</td>\n",
       "      <td>0</td>\n",
       "      <td>100.000000</td>\n",
       "      <td>1.000000</td>\n",
       "      <td>0.522907</td>\n",
       "      <td>0.060596</td>\n",
       "      <td>3</td>\n",
       "      <td>1</td>\n",
       "      <td>0</td>\n",
       "      <td>...</td>\n",
       "      <td>0.0</td>\n",
       "      <td>0.0</td>\n",
       "      <td>0.0</td>\n",
       "      <td>0.0</td>\n",
       "      <td>0.0</td>\n",
       "      <td>0.0</td>\n",
       "      <td>0.0</td>\n",
       "      <td>0.0</td>\n",
       "      <td>0.0</td>\n",
       "      <td>0.0</td>\n",
       "    </tr>\n",
       "  </tbody>\n",
       "</table>\n",
       "<p>235795 rows × 737 columns</p>\n",
       "</div>"
      ],
      "text/plain": [
       "        URLLength  DomainLength  IsDomainIP  URLSimilarityIndex  \\\n",
       "0              31            24           0          100.000000   \n",
       "1              23            16           0          100.000000   \n",
       "2              29            22           0          100.000000   \n",
       "3              26            19           0          100.000000   \n",
       "4              33            26           0          100.000000   \n",
       "...           ...           ...         ...                 ...   \n",
       "235790         29            22           0          100.000000   \n",
       "235791         28            21           0          100.000000   \n",
       "235792         30            23           0          100.000000   \n",
       "235793         55            47           0           28.157537   \n",
       "235794         33            26           0          100.000000   \n",
       "\n",
       "        CharContinuationRate  TLDLegitimateProb  URLCharProb  TLDLength  \\\n",
       "0                   1.000000           0.522907     0.061933          3   \n",
       "1                   0.666667           0.032650     0.050207          2   \n",
       "2                   0.866667           0.028555     0.064129          2   \n",
       "3                   1.000000           0.522907     0.057606          3   \n",
       "4                   1.000000           0.079963     0.059441          3   \n",
       "...                      ...                ...          ...        ...   \n",
       "235790              1.000000           0.522907     0.058739          3   \n",
       "235791              0.785714           0.028555     0.053834          2   \n",
       "235792              1.000000           0.003319     0.063093          2   \n",
       "235793              0.465116           0.000961     0.050211          3   \n",
       "235794              1.000000           0.522907     0.060596          3   \n",
       "\n",
       "        NoOfSubDomain  HasObfuscation  ...  TLD_xyz  TLD_yachts  TLD_ye  \\\n",
       "0                   1               0  ...      0.0         0.0     0.0   \n",
       "1                   1               0  ...      0.0         0.0     0.0   \n",
       "2                   2               0  ...      0.0         0.0     0.0   \n",
       "3                   1               0  ...      0.0         0.0     0.0   \n",
       "4                   1               0  ...      0.0         0.0     0.0   \n",
       "...               ...             ...  ...      ...         ...     ...   \n",
       "235790              1               0  ...      0.0         0.0     0.0   \n",
       "235791              2               0  ...      0.0         0.0     0.0   \n",
       "235792              1               0  ...      0.0         0.0     0.0   \n",
       "235793              2               0  ...      0.0         0.0     0.0   \n",
       "235794              1               0  ...      0.0         0.0     0.0   \n",
       "\n",
       "        TLD_yoga  TLD_youtube  TLD_yt  TLD_za  TLD_zm  TLD_zone  TLD_zw  \n",
       "0            0.0          0.0     0.0     0.0     0.0       0.0     0.0  \n",
       "1            0.0          0.0     0.0     0.0     0.0       0.0     0.0  \n",
       "2            0.0          0.0     0.0     0.0     0.0       0.0     0.0  \n",
       "3            0.0          0.0     0.0     0.0     0.0       0.0     0.0  \n",
       "4            0.0          0.0     0.0     0.0     0.0       0.0     0.0  \n",
       "...          ...          ...     ...     ...     ...       ...     ...  \n",
       "235790       0.0          0.0     0.0     0.0     0.0       0.0     0.0  \n",
       "235791       0.0          0.0     0.0     0.0     0.0       0.0     0.0  \n",
       "235792       0.0          0.0     0.0     0.0     0.0       0.0     0.0  \n",
       "235793       0.0          0.0     0.0     0.0     0.0       0.0     0.0  \n",
       "235794       0.0          0.0     0.0     0.0     0.0       0.0     0.0  \n",
       "\n",
       "[235795 rows x 737 columns]"
      ]
     },
     "execution_count": 18,
     "metadata": {},
     "output_type": "execute_result"
    }
   ],
   "source": [
    "corr_updated = pd.merge(corr_X,TLD_encoded_df,left_index=True, right_index=True)\n",
    "corr_updated # contains encoded tld column"
   ]
  },
  {
   "cell_type": "markdown",
   "metadata": {},
   "source": [
    "### Checking correlation between TLD and Label column"
   ]
  },
  {
   "cell_type": "markdown",
   "metadata": {},
   "source": [
    "### 1. Chi Square test- \n",
    "P-value: If the p-value is less than your significance level (e.g., 0.05), you can reject the null hypothesis and conclude that there is a significant association between TLD and label."
   ]
  },
  {
   "cell_type": "code",
   "execution_count": 19,
   "metadata": {},
   "outputs": [
    {
     "name": "stdout",
     "output_type": "stream",
     "text": [
      "Chi-Square value: 72412.58849663034\n",
      "P-value: 0.0\n"
     ]
    }
   ],
   "source": [
    "\n",
    "from scipy.stats import chi2_contingency\n",
    "\n",
    "# Assuming df is your DataFrame\n",
    "# Create a contingency table\n",
    "contingency_table = pd.crosstab(df['TLD'], df['label'])\n",
    "\n",
    "# Perform Chi-Square test\n",
    "chi2, p, dof, expected = chi2_contingency(contingency_table)\n",
    "\n",
    "# Results\n",
    "print(f\"Chi-Square value: {chi2}\")\n",
    "print(f\"P-value: {p}\")"
   ]
  },
  {
   "cell_type": "markdown",
   "metadata": {},
   "source": [
    "### 2. Cramér's V\n",
    "Cramér's V is a measure of association between two nominal variables, giving a value between 0 and 1, where 0 indicates no association and 1 indicates perfect association. A higher value (closer to 1) indicates a stronger association between TLD and label."
   ]
  },
  {
   "cell_type": "code",
   "execution_count": 20,
   "metadata": {},
   "outputs": [
    {
     "name": "stdout",
     "output_type": "stream",
     "text": [
      "Cramér's V: 0.5541658258060268\n"
     ]
    }
   ],
   "source": [
    "\n",
    "# Compute Cramér's V\n",
    "def cramers_v(confusion_matrix):\n",
    "    chi2 = chi2_contingency(confusion_matrix)[0]\n",
    "    n = confusion_matrix.sum()\n",
    "    r, k = confusion_matrix.shape\n",
    "    return np.sqrt(chi2 / (n * (min(r, k) - 1)))\n",
    "\n",
    "# Apply to the contingency table\n",
    "cramers_v_value = cramers_v(contingency_table.values)\n",
    "print(f\"Cramér's V: {cramers_v_value}\")"
   ]
  },
  {
   "cell_type": "markdown",
   "metadata": {},
   "source": [
    "### 3. Point-Biserial Correlation (If label is binary)\n",
    "To measure the strength of association between the binary label and the categorical TLD. The value ranges from -1 to 1, where values closer to 1 or -1 indicate a stronger correlation."
   ]
  },
  {
   "cell_type": "code",
   "execution_count": 21,
   "metadata": {},
   "outputs": [
    {
     "name": "stdout",
     "output_type": "stream",
     "text": [
      "Point-Biserial Correlation: 0.03927092389732449\n",
      "P-value: 3.942503622610107e-81\n"
     ]
    }
   ],
   "source": [
    "from scipy.stats import pointbiserialr\n",
    "from sklearn.preprocessing import LabelEncoder\n",
    "\n",
    "# Encode the TLD column\n",
    "le = LabelEncoder()\n",
    "encoded_TLD = le.fit_transform(df['TLD'])\n",
    "\n",
    "# Calculate the point-biserial correlation\n",
    "corr, p_value = pointbiserialr(df['label'], encoded_TLD)\n",
    "\n",
    "print(f\"Point-Biserial Correlation: {corr}\")\n",
    "print(f\"P-value: {p_value}\")"
   ]
  },
  {
   "cell_type": "markdown",
   "metadata": {},
   "source": [
    "### The TLD column should be considered an important feature for any predictive modeling or decision-making process related to identifying phishing websites. The statistical tests (Chi-Square, Cramér's V) strongly support its relevance."
   ]
  },
  {
   "cell_type": "markdown",
   "metadata": {},
   "source": [
    "### Detecting outliers"
   ]
  },
  {
   "cell_type": "code",
   "execution_count": 22,
   "metadata": {},
   "outputs": [],
   "source": [
    "import plotly .express as px"
   ]
  },
  {
   "cell_type": "code",
   "execution_count": 23,
   "metadata": {},
   "outputs": [
    {
     "data": {
      "text/plain": [
       "'\\nfor i in df.select_dtypes(\"number\").columns:\\n\\n    print(f\"for column:{i}\")\\n    fig=px.box(df,y=df[i],x=df[\\'label\\'],title=f\\'Box Plot of {i} by Label\\')\\n    fig.show()'"
      ]
     },
     "execution_count": 23,
     "metadata": {},
     "output_type": "execute_result"
    }
   ],
   "source": [
    "'''\n",
    "for i in df.select_dtypes(\"number\").columns:\n",
    "\n",
    "    print(f\"for column:{i}\")\n",
    "    fig=px.box(df,y=df[i],x=df['label'],title=f'Box Plot of {i} by Label')\n",
    "    fig.show()'''"
   ]
  },
  {
   "cell_type": "markdown",
   "metadata": {},
   "source": [
    "### Removing Outliers using IQR"
   ]
  },
  {
   "cell_type": "code",
   "execution_count": 24,
   "metadata": {},
   "outputs": [
    {
     "data": {
      "text/plain": [
       "'def removeoutliers(df):\\n    \\n        q1=df.quantile(0.25)\\n        q3=df.quantile(0.75)\\n        iqr=q3-q1\\n        lb=q1-1.5*iqr\\n        ub=q3+ 1.5*iqr\\n        return df[(df>=lb)&(df<=ub)]\\n    \\ndf_cleaned=pd.DataFrame()\\nfor i in df.select_dtypes(\"number\").columns:\\n        df_cleaned[i]=removeoutliers(backward_updated[i])\\ndf_cleaned_backward_updated =df_cleaned.dropna()\\nprint(df_cleaned)'"
      ]
     },
     "execution_count": 24,
     "metadata": {},
     "output_type": "execute_result"
    }
   ],
   "source": [
    "'''def removeoutliers(df):\n",
    "    \n",
    "        q1=df.quantile(0.25)\n",
    "        q3=df.quantile(0.75)\n",
    "        iqr=q3-q1\n",
    "        lb=q1-1.5*iqr\n",
    "        ub=q3+ 1.5*iqr\n",
    "        return df[(df>=lb)&(df<=ub)]\n",
    "    \n",
    "df_cleaned=pd.DataFrame()\n",
    "for i in df.select_dtypes(\"number\").columns:\n",
    "        df_cleaned[i]=removeoutliers(backward_updated[i])\n",
    "df_cleaned_backward_updated =df_cleaned.dropna()\n",
    "print(df_cleaned)'''\n",
    "\n",
    "\n"
   ]
  },
  {
   "cell_type": "markdown",
   "metadata": {},
   "source": [
    "#### Outlier removal for backward updated"
   ]
  },
  {
   "cell_type": "code",
   "execution_count": 25,
   "metadata": {},
   "outputs": [
    {
     "name": "stdout",
     "output_type": "stream",
     "text": [
      "        URLLength  DomainLength  IsDomainIP  URLSimilarityIndex  \\\n",
      "0            31.0            24           0          100.000000   \n",
      "1            23.0            16           0          100.000000   \n",
      "2            29.0            22           0          100.000000   \n",
      "3            26.0            19           0          100.000000   \n",
      "4            33.0            26           0          100.000000   \n",
      "...           ...           ...         ...                 ...   \n",
      "235790       29.0            22           0          100.000000   \n",
      "235791       28.0            21           0          100.000000   \n",
      "235792       30.0            23           0          100.000000   \n",
      "235793       50.5            36           0           28.157537   \n",
      "235794       33.0            26           0          100.000000   \n",
      "\n",
      "        CharContinuationRate  TLDLegitimateProb  URLCharProb  TLDLength  \\\n",
      "0                   1.000000           0.522907     0.061933        3.0   \n",
      "1                   0.666667           0.032650     0.050207        2.0   \n",
      "2                   0.866667           0.028555     0.064129        2.0   \n",
      "3                   1.000000           0.522907     0.057606        3.0   \n",
      "4                   1.000000           0.079963     0.059441        3.0   \n",
      "...                      ...                ...          ...        ...   \n",
      "235790              1.000000           0.522907     0.058739        3.0   \n",
      "235791              0.785714           0.028555     0.053834        2.0   \n",
      "235792              1.000000           0.003319     0.063093        2.0   \n",
      "235793              0.465116           0.000961     0.050211        3.0   \n",
      "235794              1.000000           0.522907     0.060596        3.0   \n",
      "\n",
      "        NoOfSubDomain  HasObfuscation  ...  TLD_xyz  TLD_yachts  TLD_ye  \\\n",
      "0                   1               0  ...      0.0         0.0     0.0   \n",
      "1                   1               0  ...      0.0         0.0     0.0   \n",
      "2                   1               0  ...      0.0         0.0     0.0   \n",
      "3                   1               0  ...      0.0         0.0     0.0   \n",
      "4                   1               0  ...      0.0         0.0     0.0   \n",
      "...               ...             ...  ...      ...         ...     ...   \n",
      "235790              1               0  ...      0.0         0.0     0.0   \n",
      "235791              1               0  ...      0.0         0.0     0.0   \n",
      "235792              1               0  ...      0.0         0.0     0.0   \n",
      "235793              1               0  ...      0.0         0.0     0.0   \n",
      "235794              1               0  ...      0.0         0.0     0.0   \n",
      "\n",
      "        TLD_yoga  TLD_youtube  TLD_yt  TLD_za  TLD_zm  TLD_zone  TLD_zw  \n",
      "0            0.0          0.0     0.0     0.0     0.0       0.0     0.0  \n",
      "1            0.0          0.0     0.0     0.0     0.0       0.0     0.0  \n",
      "2            0.0          0.0     0.0     0.0     0.0       0.0     0.0  \n",
      "3            0.0          0.0     0.0     0.0     0.0       0.0     0.0  \n",
      "4            0.0          0.0     0.0     0.0     0.0       0.0     0.0  \n",
      "...          ...          ...     ...     ...     ...       ...     ...  \n",
      "235790       0.0          0.0     0.0     0.0     0.0       0.0     0.0  \n",
      "235791       0.0          0.0     0.0     0.0     0.0       0.0     0.0  \n",
      "235792       0.0          0.0     0.0     0.0     0.0       0.0     0.0  \n",
      "235793       0.0          0.0     0.0     0.0     0.0       0.0     0.0  \n",
      "235794       0.0          0.0     0.0     0.0     0.0       0.0     0.0  \n",
      "\n",
      "[235795 rows x 736 columns]\n"
     ]
    }
   ],
   "source": [
    "import pandas as pd\n",
    "\n",
    "def replace_outliers(df):\n",
    "    cleaned_df = df.copy()\n",
    "    for column in df.select_dtypes(include='number').columns:\n",
    "        q1 = df[column].quantile(0.25)\n",
    "        q3 = df[column].quantile(0.75)\n",
    "        iqr = q3 - q1\n",
    "        lb = q1 - 1.5 * iqr\n",
    "        ub = q3 + 1.5 * iqr\n",
    "        \n",
    "        # Replace the outliers\n",
    "        cleaned_df.loc[cleaned_df[column] < lb, column] = lb\n",
    "        cleaned_df.loc[cleaned_df[column] > ub, column] = ub\n",
    "    \n",
    "    return cleaned_df\n",
    "\n",
    "# Example usage\n",
    "df_cleaned = replace_outliers(backward_updated)\n",
    "df_cleaned_backward_updated = df_cleaned.dropna()\n",
    "\n",
    "print(df_cleaned_backward_updated)\n"
   ]
  },
  {
   "cell_type": "markdown",
   "metadata": {},
   "source": [
    "#### Outlier removal for correlation updated"
   ]
  },
  {
   "cell_type": "code",
   "execution_count": 26,
   "metadata": {},
   "outputs": [
    {
     "data": {
      "text/html": [
       "<div>\n",
       "<style scoped>\n",
       "    .dataframe tbody tr th:only-of-type {\n",
       "        vertical-align: middle;\n",
       "    }\n",
       "\n",
       "    .dataframe tbody tr th {\n",
       "        vertical-align: top;\n",
       "    }\n",
       "\n",
       "    .dataframe thead th {\n",
       "        text-align: right;\n",
       "    }\n",
       "</style>\n",
       "<table border=\"1\" class=\"dataframe\">\n",
       "  <thead>\n",
       "    <tr style=\"text-align: right;\">\n",
       "      <th></th>\n",
       "      <th>URLLength</th>\n",
       "      <th>DomainLength</th>\n",
       "      <th>IsDomainIP</th>\n",
       "      <th>URLSimilarityIndex</th>\n",
       "      <th>CharContinuationRate</th>\n",
       "      <th>TLDLegitimateProb</th>\n",
       "      <th>URLCharProb</th>\n",
       "      <th>TLDLength</th>\n",
       "      <th>NoOfSubDomain</th>\n",
       "      <th>HasObfuscation</th>\n",
       "      <th>...</th>\n",
       "      <th>TLD_xyz</th>\n",
       "      <th>TLD_yachts</th>\n",
       "      <th>TLD_ye</th>\n",
       "      <th>TLD_yoga</th>\n",
       "      <th>TLD_youtube</th>\n",
       "      <th>TLD_yt</th>\n",
       "      <th>TLD_za</th>\n",
       "      <th>TLD_zm</th>\n",
       "      <th>TLD_zone</th>\n",
       "      <th>TLD_zw</th>\n",
       "    </tr>\n",
       "  </thead>\n",
       "  <tbody>\n",
       "    <tr>\n",
       "      <th>0</th>\n",
       "      <td>31.0</td>\n",
       "      <td>24</td>\n",
       "      <td>0</td>\n",
       "      <td>100.000000</td>\n",
       "      <td>1.000000</td>\n",
       "      <td>0.522907</td>\n",
       "      <td>0.061933</td>\n",
       "      <td>3.0</td>\n",
       "      <td>1</td>\n",
       "      <td>0</td>\n",
       "      <td>...</td>\n",
       "      <td>0.0</td>\n",
       "      <td>0.0</td>\n",
       "      <td>0.0</td>\n",
       "      <td>0.0</td>\n",
       "      <td>0.0</td>\n",
       "      <td>0.0</td>\n",
       "      <td>0.0</td>\n",
       "      <td>0.0</td>\n",
       "      <td>0.0</td>\n",
       "      <td>0.0</td>\n",
       "    </tr>\n",
       "    <tr>\n",
       "      <th>1</th>\n",
       "      <td>23.0</td>\n",
       "      <td>16</td>\n",
       "      <td>0</td>\n",
       "      <td>100.000000</td>\n",
       "      <td>0.666667</td>\n",
       "      <td>0.032650</td>\n",
       "      <td>0.050207</td>\n",
       "      <td>2.0</td>\n",
       "      <td>1</td>\n",
       "      <td>0</td>\n",
       "      <td>...</td>\n",
       "      <td>0.0</td>\n",
       "      <td>0.0</td>\n",
       "      <td>0.0</td>\n",
       "      <td>0.0</td>\n",
       "      <td>0.0</td>\n",
       "      <td>0.0</td>\n",
       "      <td>0.0</td>\n",
       "      <td>0.0</td>\n",
       "      <td>0.0</td>\n",
       "      <td>0.0</td>\n",
       "    </tr>\n",
       "    <tr>\n",
       "      <th>2</th>\n",
       "      <td>29.0</td>\n",
       "      <td>22</td>\n",
       "      <td>0</td>\n",
       "      <td>100.000000</td>\n",
       "      <td>0.866667</td>\n",
       "      <td>0.028555</td>\n",
       "      <td>0.064129</td>\n",
       "      <td>2.0</td>\n",
       "      <td>1</td>\n",
       "      <td>0</td>\n",
       "      <td>...</td>\n",
       "      <td>0.0</td>\n",
       "      <td>0.0</td>\n",
       "      <td>0.0</td>\n",
       "      <td>0.0</td>\n",
       "      <td>0.0</td>\n",
       "      <td>0.0</td>\n",
       "      <td>0.0</td>\n",
       "      <td>0.0</td>\n",
       "      <td>0.0</td>\n",
       "      <td>0.0</td>\n",
       "    </tr>\n",
       "    <tr>\n",
       "      <th>3</th>\n",
       "      <td>26.0</td>\n",
       "      <td>19</td>\n",
       "      <td>0</td>\n",
       "      <td>100.000000</td>\n",
       "      <td>1.000000</td>\n",
       "      <td>0.522907</td>\n",
       "      <td>0.057606</td>\n",
       "      <td>3.0</td>\n",
       "      <td>1</td>\n",
       "      <td>0</td>\n",
       "      <td>...</td>\n",
       "      <td>0.0</td>\n",
       "      <td>0.0</td>\n",
       "      <td>0.0</td>\n",
       "      <td>0.0</td>\n",
       "      <td>0.0</td>\n",
       "      <td>0.0</td>\n",
       "      <td>0.0</td>\n",
       "      <td>0.0</td>\n",
       "      <td>0.0</td>\n",
       "      <td>0.0</td>\n",
       "    </tr>\n",
       "    <tr>\n",
       "      <th>4</th>\n",
       "      <td>33.0</td>\n",
       "      <td>26</td>\n",
       "      <td>0</td>\n",
       "      <td>100.000000</td>\n",
       "      <td>1.000000</td>\n",
       "      <td>0.079963</td>\n",
       "      <td>0.059441</td>\n",
       "      <td>3.0</td>\n",
       "      <td>1</td>\n",
       "      <td>0</td>\n",
       "      <td>...</td>\n",
       "      <td>0.0</td>\n",
       "      <td>0.0</td>\n",
       "      <td>0.0</td>\n",
       "      <td>0.0</td>\n",
       "      <td>0.0</td>\n",
       "      <td>0.0</td>\n",
       "      <td>0.0</td>\n",
       "      <td>0.0</td>\n",
       "      <td>0.0</td>\n",
       "      <td>0.0</td>\n",
       "    </tr>\n",
       "    <tr>\n",
       "      <th>...</th>\n",
       "      <td>...</td>\n",
       "      <td>...</td>\n",
       "      <td>...</td>\n",
       "      <td>...</td>\n",
       "      <td>...</td>\n",
       "      <td>...</td>\n",
       "      <td>...</td>\n",
       "      <td>...</td>\n",
       "      <td>...</td>\n",
       "      <td>...</td>\n",
       "      <td>...</td>\n",
       "      <td>...</td>\n",
       "      <td>...</td>\n",
       "      <td>...</td>\n",
       "      <td>...</td>\n",
       "      <td>...</td>\n",
       "      <td>...</td>\n",
       "      <td>...</td>\n",
       "      <td>...</td>\n",
       "      <td>...</td>\n",
       "      <td>...</td>\n",
       "    </tr>\n",
       "    <tr>\n",
       "      <th>235790</th>\n",
       "      <td>29.0</td>\n",
       "      <td>22</td>\n",
       "      <td>0</td>\n",
       "      <td>100.000000</td>\n",
       "      <td>1.000000</td>\n",
       "      <td>0.522907</td>\n",
       "      <td>0.058739</td>\n",
       "      <td>3.0</td>\n",
       "      <td>1</td>\n",
       "      <td>0</td>\n",
       "      <td>...</td>\n",
       "      <td>0.0</td>\n",
       "      <td>0.0</td>\n",
       "      <td>0.0</td>\n",
       "      <td>0.0</td>\n",
       "      <td>0.0</td>\n",
       "      <td>0.0</td>\n",
       "      <td>0.0</td>\n",
       "      <td>0.0</td>\n",
       "      <td>0.0</td>\n",
       "      <td>0.0</td>\n",
       "    </tr>\n",
       "    <tr>\n",
       "      <th>235791</th>\n",
       "      <td>28.0</td>\n",
       "      <td>21</td>\n",
       "      <td>0</td>\n",
       "      <td>100.000000</td>\n",
       "      <td>0.785714</td>\n",
       "      <td>0.028555</td>\n",
       "      <td>0.053834</td>\n",
       "      <td>2.0</td>\n",
       "      <td>1</td>\n",
       "      <td>0</td>\n",
       "      <td>...</td>\n",
       "      <td>0.0</td>\n",
       "      <td>0.0</td>\n",
       "      <td>0.0</td>\n",
       "      <td>0.0</td>\n",
       "      <td>0.0</td>\n",
       "      <td>0.0</td>\n",
       "      <td>0.0</td>\n",
       "      <td>0.0</td>\n",
       "      <td>0.0</td>\n",
       "      <td>0.0</td>\n",
       "    </tr>\n",
       "    <tr>\n",
       "      <th>235792</th>\n",
       "      <td>30.0</td>\n",
       "      <td>23</td>\n",
       "      <td>0</td>\n",
       "      <td>100.000000</td>\n",
       "      <td>1.000000</td>\n",
       "      <td>0.003319</td>\n",
       "      <td>0.063093</td>\n",
       "      <td>2.0</td>\n",
       "      <td>1</td>\n",
       "      <td>0</td>\n",
       "      <td>...</td>\n",
       "      <td>0.0</td>\n",
       "      <td>0.0</td>\n",
       "      <td>0.0</td>\n",
       "      <td>0.0</td>\n",
       "      <td>0.0</td>\n",
       "      <td>0.0</td>\n",
       "      <td>0.0</td>\n",
       "      <td>0.0</td>\n",
       "      <td>0.0</td>\n",
       "      <td>0.0</td>\n",
       "    </tr>\n",
       "    <tr>\n",
       "      <th>235793</th>\n",
       "      <td>50.5</td>\n",
       "      <td>36</td>\n",
       "      <td>0</td>\n",
       "      <td>28.157537</td>\n",
       "      <td>0.465116</td>\n",
       "      <td>0.000961</td>\n",
       "      <td>0.050211</td>\n",
       "      <td>3.0</td>\n",
       "      <td>1</td>\n",
       "      <td>0</td>\n",
       "      <td>...</td>\n",
       "      <td>0.0</td>\n",
       "      <td>0.0</td>\n",
       "      <td>0.0</td>\n",
       "      <td>0.0</td>\n",
       "      <td>0.0</td>\n",
       "      <td>0.0</td>\n",
       "      <td>0.0</td>\n",
       "      <td>0.0</td>\n",
       "      <td>0.0</td>\n",
       "      <td>0.0</td>\n",
       "    </tr>\n",
       "    <tr>\n",
       "      <th>235794</th>\n",
       "      <td>33.0</td>\n",
       "      <td>26</td>\n",
       "      <td>0</td>\n",
       "      <td>100.000000</td>\n",
       "      <td>1.000000</td>\n",
       "      <td>0.522907</td>\n",
       "      <td>0.060596</td>\n",
       "      <td>3.0</td>\n",
       "      <td>1</td>\n",
       "      <td>0</td>\n",
       "      <td>...</td>\n",
       "      <td>0.0</td>\n",
       "      <td>0.0</td>\n",
       "      <td>0.0</td>\n",
       "      <td>0.0</td>\n",
       "      <td>0.0</td>\n",
       "      <td>0.0</td>\n",
       "      <td>0.0</td>\n",
       "      <td>0.0</td>\n",
       "      <td>0.0</td>\n",
       "      <td>0.0</td>\n",
       "    </tr>\n",
       "  </tbody>\n",
       "</table>\n",
       "<p>235795 rows × 737 columns</p>\n",
       "</div>"
      ],
      "text/plain": [
       "        URLLength  DomainLength  IsDomainIP  URLSimilarityIndex  \\\n",
       "0            31.0            24           0          100.000000   \n",
       "1            23.0            16           0          100.000000   \n",
       "2            29.0            22           0          100.000000   \n",
       "3            26.0            19           0          100.000000   \n",
       "4            33.0            26           0          100.000000   \n",
       "...           ...           ...         ...                 ...   \n",
       "235790       29.0            22           0          100.000000   \n",
       "235791       28.0            21           0          100.000000   \n",
       "235792       30.0            23           0          100.000000   \n",
       "235793       50.5            36           0           28.157537   \n",
       "235794       33.0            26           0          100.000000   \n",
       "\n",
       "        CharContinuationRate  TLDLegitimateProb  URLCharProb  TLDLength  \\\n",
       "0                   1.000000           0.522907     0.061933        3.0   \n",
       "1                   0.666667           0.032650     0.050207        2.0   \n",
       "2                   0.866667           0.028555     0.064129        2.0   \n",
       "3                   1.000000           0.522907     0.057606        3.0   \n",
       "4                   1.000000           0.079963     0.059441        3.0   \n",
       "...                      ...                ...          ...        ...   \n",
       "235790              1.000000           0.522907     0.058739        3.0   \n",
       "235791              0.785714           0.028555     0.053834        2.0   \n",
       "235792              1.000000           0.003319     0.063093        2.0   \n",
       "235793              0.465116           0.000961     0.050211        3.0   \n",
       "235794              1.000000           0.522907     0.060596        3.0   \n",
       "\n",
       "        NoOfSubDomain  HasObfuscation  ...  TLD_xyz  TLD_yachts  TLD_ye  \\\n",
       "0                   1               0  ...      0.0         0.0     0.0   \n",
       "1                   1               0  ...      0.0         0.0     0.0   \n",
       "2                   1               0  ...      0.0         0.0     0.0   \n",
       "3                   1               0  ...      0.0         0.0     0.0   \n",
       "4                   1               0  ...      0.0         0.0     0.0   \n",
       "...               ...             ...  ...      ...         ...     ...   \n",
       "235790              1               0  ...      0.0         0.0     0.0   \n",
       "235791              1               0  ...      0.0         0.0     0.0   \n",
       "235792              1               0  ...      0.0         0.0     0.0   \n",
       "235793              1               0  ...      0.0         0.0     0.0   \n",
       "235794              1               0  ...      0.0         0.0     0.0   \n",
       "\n",
       "        TLD_yoga  TLD_youtube  TLD_yt  TLD_za  TLD_zm  TLD_zone  TLD_zw  \n",
       "0            0.0          0.0     0.0     0.0     0.0       0.0     0.0  \n",
       "1            0.0          0.0     0.0     0.0     0.0       0.0     0.0  \n",
       "2            0.0          0.0     0.0     0.0     0.0       0.0     0.0  \n",
       "3            0.0          0.0     0.0     0.0     0.0       0.0     0.0  \n",
       "4            0.0          0.0     0.0     0.0     0.0       0.0     0.0  \n",
       "...          ...          ...     ...     ...     ...       ...     ...  \n",
       "235790       0.0          0.0     0.0     0.0     0.0       0.0     0.0  \n",
       "235791       0.0          0.0     0.0     0.0     0.0       0.0     0.0  \n",
       "235792       0.0          0.0     0.0     0.0     0.0       0.0     0.0  \n",
       "235793       0.0          0.0     0.0     0.0     0.0       0.0     0.0  \n",
       "235794       0.0          0.0     0.0     0.0     0.0       0.0     0.0  \n",
       "\n",
       "[235795 rows x 737 columns]"
      ]
     },
     "execution_count": 26,
     "metadata": {},
     "output_type": "execute_result"
    }
   ],
   "source": [
    "df_cleaned1 = replace_outliers(corr_updated)\n",
    "df_cleaned_corr_updated = df_cleaned1.dropna()\n",
    "\n",
    "df_cleaned_corr_updated"
   ]
  },
  {
   "cell_type": "markdown",
   "metadata": {},
   "source": [
    "#### Feature Scaling"
   ]
  },
  {
   "cell_type": "markdown",
   "metadata": {},
   "source": [
    "##### for backward"
   ]
  },
  {
   "cell_type": "code",
   "execution_count": 27,
   "metadata": {},
   "outputs": [
    {
     "data": {
      "text/html": [
       "<div>\n",
       "<style scoped>\n",
       "    .dataframe tbody tr th:only-of-type {\n",
       "        vertical-align: middle;\n",
       "    }\n",
       "\n",
       "    .dataframe tbody tr th {\n",
       "        vertical-align: top;\n",
       "    }\n",
       "\n",
       "    .dataframe thead th {\n",
       "        text-align: right;\n",
       "    }\n",
       "</style>\n",
       "<table border=\"1\" class=\"dataframe\">\n",
       "  <thead>\n",
       "    <tr style=\"text-align: right;\">\n",
       "      <th></th>\n",
       "      <th>URLLength</th>\n",
       "      <th>DomainLength</th>\n",
       "      <th>IsDomainIP</th>\n",
       "      <th>URLSimilarityIndex</th>\n",
       "      <th>CharContinuationRate</th>\n",
       "      <th>TLDLegitimateProb</th>\n",
       "      <th>URLCharProb</th>\n",
       "      <th>TLDLength</th>\n",
       "      <th>NoOfSubDomain</th>\n",
       "      <th>HasObfuscation</th>\n",
       "      <th>...</th>\n",
       "      <th>TLD_xyz</th>\n",
       "      <th>TLD_yachts</th>\n",
       "      <th>TLD_ye</th>\n",
       "      <th>TLD_yoga</th>\n",
       "      <th>TLD_youtube</th>\n",
       "      <th>TLD_yt</th>\n",
       "      <th>TLD_za</th>\n",
       "      <th>TLD_zm</th>\n",
       "      <th>TLD_zone</th>\n",
       "      <th>TLD_zw</th>\n",
       "    </tr>\n",
       "  </thead>\n",
       "  <tbody>\n",
       "    <tr>\n",
       "      <th>0</th>\n",
       "      <td>0.480000</td>\n",
       "      <td>0.62500</td>\n",
       "      <td>0.0</td>\n",
       "      <td>1.0</td>\n",
       "      <td>1.000000</td>\n",
       "      <td>1.000000</td>\n",
       "      <td>0.605576</td>\n",
       "      <td>0.4</td>\n",
       "      <td>0.0</td>\n",
       "      <td>0.0</td>\n",
       "      <td>...</td>\n",
       "      <td>0.0</td>\n",
       "      <td>0.0</td>\n",
       "      <td>0.0</td>\n",
       "      <td>0.0</td>\n",
       "      <td>0.0</td>\n",
       "      <td>0.0</td>\n",
       "      <td>0.0</td>\n",
       "      <td>0.0</td>\n",
       "      <td>0.0</td>\n",
       "      <td>0.0</td>\n",
       "    </tr>\n",
       "    <tr>\n",
       "      <th>1</th>\n",
       "      <td>0.266667</td>\n",
       "      <td>0.37500</td>\n",
       "      <td>0.0</td>\n",
       "      <td>1.0</td>\n",
       "      <td>0.583333</td>\n",
       "      <td>0.062440</td>\n",
       "      <td>0.363869</td>\n",
       "      <td>0.0</td>\n",
       "      <td>0.0</td>\n",
       "      <td>0.0</td>\n",
       "      <td>...</td>\n",
       "      <td>0.0</td>\n",
       "      <td>0.0</td>\n",
       "      <td>0.0</td>\n",
       "      <td>0.0</td>\n",
       "      <td>0.0</td>\n",
       "      <td>0.0</td>\n",
       "      <td>0.0</td>\n",
       "      <td>0.0</td>\n",
       "      <td>0.0</td>\n",
       "      <td>0.0</td>\n",
       "    </tr>\n",
       "    <tr>\n",
       "      <th>2</th>\n",
       "      <td>0.426667</td>\n",
       "      <td>0.56250</td>\n",
       "      <td>0.0</td>\n",
       "      <td>1.0</td>\n",
       "      <td>0.833333</td>\n",
       "      <td>0.054608</td>\n",
       "      <td>0.650833</td>\n",
       "      <td>0.0</td>\n",
       "      <td>0.0</td>\n",
       "      <td>0.0</td>\n",
       "      <td>...</td>\n",
       "      <td>0.0</td>\n",
       "      <td>0.0</td>\n",
       "      <td>0.0</td>\n",
       "      <td>0.0</td>\n",
       "      <td>0.0</td>\n",
       "      <td>0.0</td>\n",
       "      <td>0.0</td>\n",
       "      <td>0.0</td>\n",
       "      <td>0.0</td>\n",
       "      <td>0.0</td>\n",
       "    </tr>\n",
       "    <tr>\n",
       "      <th>3</th>\n",
       "      <td>0.346667</td>\n",
       "      <td>0.46875</td>\n",
       "      <td>0.0</td>\n",
       "      <td>1.0</td>\n",
       "      <td>1.000000</td>\n",
       "      <td>1.000000</td>\n",
       "      <td>0.516375</td>\n",
       "      <td>0.4</td>\n",
       "      <td>0.0</td>\n",
       "      <td>0.0</td>\n",
       "      <td>...</td>\n",
       "      <td>0.0</td>\n",
       "      <td>0.0</td>\n",
       "      <td>0.0</td>\n",
       "      <td>0.0</td>\n",
       "      <td>0.0</td>\n",
       "      <td>0.0</td>\n",
       "      <td>0.0</td>\n",
       "      <td>0.0</td>\n",
       "      <td>0.0</td>\n",
       "      <td>0.0</td>\n",
       "    </tr>\n",
       "    <tr>\n",
       "      <th>4</th>\n",
       "      <td>0.533333</td>\n",
       "      <td>0.68750</td>\n",
       "      <td>0.0</td>\n",
       "      <td>1.0</td>\n",
       "      <td>1.000000</td>\n",
       "      <td>0.152920</td>\n",
       "      <td>0.554213</td>\n",
       "      <td>0.4</td>\n",
       "      <td>0.0</td>\n",
       "      <td>0.0</td>\n",
       "      <td>...</td>\n",
       "      <td>0.0</td>\n",
       "      <td>0.0</td>\n",
       "      <td>0.0</td>\n",
       "      <td>0.0</td>\n",
       "      <td>0.0</td>\n",
       "      <td>0.0</td>\n",
       "      <td>0.0</td>\n",
       "      <td>0.0</td>\n",
       "      <td>0.0</td>\n",
       "      <td>0.0</td>\n",
       "    </tr>\n",
       "  </tbody>\n",
       "</table>\n",
       "<p>5 rows × 736 columns</p>\n",
       "</div>"
      ],
      "text/plain": [
       "   URLLength  DomainLength  IsDomainIP  URLSimilarityIndex  \\\n",
       "0   0.480000       0.62500         0.0                 1.0   \n",
       "1   0.266667       0.37500         0.0                 1.0   \n",
       "2   0.426667       0.56250         0.0                 1.0   \n",
       "3   0.346667       0.46875         0.0                 1.0   \n",
       "4   0.533333       0.68750         0.0                 1.0   \n",
       "\n",
       "   CharContinuationRate  TLDLegitimateProb  URLCharProb  TLDLength  \\\n",
       "0              1.000000           1.000000     0.605576        0.4   \n",
       "1              0.583333           0.062440     0.363869        0.0   \n",
       "2              0.833333           0.054608     0.650833        0.0   \n",
       "3              1.000000           1.000000     0.516375        0.4   \n",
       "4              1.000000           0.152920     0.554213        0.4   \n",
       "\n",
       "   NoOfSubDomain  HasObfuscation  ...  TLD_xyz  TLD_yachts  TLD_ye  TLD_yoga  \\\n",
       "0            0.0             0.0  ...      0.0         0.0     0.0       0.0   \n",
       "1            0.0             0.0  ...      0.0         0.0     0.0       0.0   \n",
       "2            0.0             0.0  ...      0.0         0.0     0.0       0.0   \n",
       "3            0.0             0.0  ...      0.0         0.0     0.0       0.0   \n",
       "4            0.0             0.0  ...      0.0         0.0     0.0       0.0   \n",
       "\n",
       "   TLD_youtube  TLD_yt  TLD_za  TLD_zm  TLD_zone  TLD_zw  \n",
       "0          0.0     0.0     0.0     0.0       0.0     0.0  \n",
       "1          0.0     0.0     0.0     0.0       0.0     0.0  \n",
       "2          0.0     0.0     0.0     0.0       0.0     0.0  \n",
       "3          0.0     0.0     0.0     0.0       0.0     0.0  \n",
       "4          0.0     0.0     0.0     0.0       0.0     0.0  \n",
       "\n",
       "[5 rows x 736 columns]"
      ]
     },
     "execution_count": 27,
     "metadata": {},
     "output_type": "execute_result"
    }
   ],
   "source": [
    "from sklearn.preprocessing import MinMaxScaler\n",
    "scaler=MinMaxScaler()\n",
    "scaled_data=scaler.fit_transform(df_cleaned_backward_updated)\n",
    "scaled_df_backward=pd.DataFrame(scaled_data,columns=df_cleaned_backward_updated.columns)\n",
    "scaled_df_backward.head()"
   ]
  },
  {
   "cell_type": "markdown",
   "metadata": {},
   "source": [
    "#### for correlation"
   ]
  },
  {
   "cell_type": "code",
   "execution_count": 28,
   "metadata": {},
   "outputs": [
    {
     "data": {
      "text/html": [
       "<div>\n",
       "<style scoped>\n",
       "    .dataframe tbody tr th:only-of-type {\n",
       "        vertical-align: middle;\n",
       "    }\n",
       "\n",
       "    .dataframe tbody tr th {\n",
       "        vertical-align: top;\n",
       "    }\n",
       "\n",
       "    .dataframe thead th {\n",
       "        text-align: right;\n",
       "    }\n",
       "</style>\n",
       "<table border=\"1\" class=\"dataframe\">\n",
       "  <thead>\n",
       "    <tr style=\"text-align: right;\">\n",
       "      <th></th>\n",
       "      <th>URLLength</th>\n",
       "      <th>DomainLength</th>\n",
       "      <th>IsDomainIP</th>\n",
       "      <th>URLSimilarityIndex</th>\n",
       "      <th>CharContinuationRate</th>\n",
       "      <th>TLDLegitimateProb</th>\n",
       "      <th>URLCharProb</th>\n",
       "      <th>TLDLength</th>\n",
       "      <th>NoOfSubDomain</th>\n",
       "      <th>HasObfuscation</th>\n",
       "      <th>...</th>\n",
       "      <th>TLD_xyz</th>\n",
       "      <th>TLD_yachts</th>\n",
       "      <th>TLD_ye</th>\n",
       "      <th>TLD_yoga</th>\n",
       "      <th>TLD_youtube</th>\n",
       "      <th>TLD_yt</th>\n",
       "      <th>TLD_za</th>\n",
       "      <th>TLD_zm</th>\n",
       "      <th>TLD_zone</th>\n",
       "      <th>TLD_zw</th>\n",
       "    </tr>\n",
       "  </thead>\n",
       "  <tbody>\n",
       "    <tr>\n",
       "      <th>0</th>\n",
       "      <td>0.480000</td>\n",
       "      <td>0.62500</td>\n",
       "      <td>0.0</td>\n",
       "      <td>1.0</td>\n",
       "      <td>1.000000</td>\n",
       "      <td>1.000000</td>\n",
       "      <td>0.605576</td>\n",
       "      <td>0.4</td>\n",
       "      <td>0.0</td>\n",
       "      <td>0.0</td>\n",
       "      <td>...</td>\n",
       "      <td>0.0</td>\n",
       "      <td>0.0</td>\n",
       "      <td>0.0</td>\n",
       "      <td>0.0</td>\n",
       "      <td>0.0</td>\n",
       "      <td>0.0</td>\n",
       "      <td>0.0</td>\n",
       "      <td>0.0</td>\n",
       "      <td>0.0</td>\n",
       "      <td>0.0</td>\n",
       "    </tr>\n",
       "    <tr>\n",
       "      <th>1</th>\n",
       "      <td>0.266667</td>\n",
       "      <td>0.37500</td>\n",
       "      <td>0.0</td>\n",
       "      <td>1.0</td>\n",
       "      <td>0.583333</td>\n",
       "      <td>0.062440</td>\n",
       "      <td>0.363869</td>\n",
       "      <td>0.0</td>\n",
       "      <td>0.0</td>\n",
       "      <td>0.0</td>\n",
       "      <td>...</td>\n",
       "      <td>0.0</td>\n",
       "      <td>0.0</td>\n",
       "      <td>0.0</td>\n",
       "      <td>0.0</td>\n",
       "      <td>0.0</td>\n",
       "      <td>0.0</td>\n",
       "      <td>0.0</td>\n",
       "      <td>0.0</td>\n",
       "      <td>0.0</td>\n",
       "      <td>0.0</td>\n",
       "    </tr>\n",
       "    <tr>\n",
       "      <th>2</th>\n",
       "      <td>0.426667</td>\n",
       "      <td>0.56250</td>\n",
       "      <td>0.0</td>\n",
       "      <td>1.0</td>\n",
       "      <td>0.833333</td>\n",
       "      <td>0.054608</td>\n",
       "      <td>0.650833</td>\n",
       "      <td>0.0</td>\n",
       "      <td>0.0</td>\n",
       "      <td>0.0</td>\n",
       "      <td>...</td>\n",
       "      <td>0.0</td>\n",
       "      <td>0.0</td>\n",
       "      <td>0.0</td>\n",
       "      <td>0.0</td>\n",
       "      <td>0.0</td>\n",
       "      <td>0.0</td>\n",
       "      <td>0.0</td>\n",
       "      <td>0.0</td>\n",
       "      <td>0.0</td>\n",
       "      <td>0.0</td>\n",
       "    </tr>\n",
       "    <tr>\n",
       "      <th>3</th>\n",
       "      <td>0.346667</td>\n",
       "      <td>0.46875</td>\n",
       "      <td>0.0</td>\n",
       "      <td>1.0</td>\n",
       "      <td>1.000000</td>\n",
       "      <td>1.000000</td>\n",
       "      <td>0.516375</td>\n",
       "      <td>0.4</td>\n",
       "      <td>0.0</td>\n",
       "      <td>0.0</td>\n",
       "      <td>...</td>\n",
       "      <td>0.0</td>\n",
       "      <td>0.0</td>\n",
       "      <td>0.0</td>\n",
       "      <td>0.0</td>\n",
       "      <td>0.0</td>\n",
       "      <td>0.0</td>\n",
       "      <td>0.0</td>\n",
       "      <td>0.0</td>\n",
       "      <td>0.0</td>\n",
       "      <td>0.0</td>\n",
       "    </tr>\n",
       "    <tr>\n",
       "      <th>4</th>\n",
       "      <td>0.533333</td>\n",
       "      <td>0.68750</td>\n",
       "      <td>0.0</td>\n",
       "      <td>1.0</td>\n",
       "      <td>1.000000</td>\n",
       "      <td>0.152920</td>\n",
       "      <td>0.554213</td>\n",
       "      <td>0.4</td>\n",
       "      <td>0.0</td>\n",
       "      <td>0.0</td>\n",
       "      <td>...</td>\n",
       "      <td>0.0</td>\n",
       "      <td>0.0</td>\n",
       "      <td>0.0</td>\n",
       "      <td>0.0</td>\n",
       "      <td>0.0</td>\n",
       "      <td>0.0</td>\n",
       "      <td>0.0</td>\n",
       "      <td>0.0</td>\n",
       "      <td>0.0</td>\n",
       "      <td>0.0</td>\n",
       "    </tr>\n",
       "  </tbody>\n",
       "</table>\n",
       "<p>5 rows × 737 columns</p>\n",
       "</div>"
      ],
      "text/plain": [
       "   URLLength  DomainLength  IsDomainIP  URLSimilarityIndex  \\\n",
       "0   0.480000       0.62500         0.0                 1.0   \n",
       "1   0.266667       0.37500         0.0                 1.0   \n",
       "2   0.426667       0.56250         0.0                 1.0   \n",
       "3   0.346667       0.46875         0.0                 1.0   \n",
       "4   0.533333       0.68750         0.0                 1.0   \n",
       "\n",
       "   CharContinuationRate  TLDLegitimateProb  URLCharProb  TLDLength  \\\n",
       "0              1.000000           1.000000     0.605576        0.4   \n",
       "1              0.583333           0.062440     0.363869        0.0   \n",
       "2              0.833333           0.054608     0.650833        0.0   \n",
       "3              1.000000           1.000000     0.516375        0.4   \n",
       "4              1.000000           0.152920     0.554213        0.4   \n",
       "\n",
       "   NoOfSubDomain  HasObfuscation  ...  TLD_xyz  TLD_yachts  TLD_ye  TLD_yoga  \\\n",
       "0            0.0             0.0  ...      0.0         0.0     0.0       0.0   \n",
       "1            0.0             0.0  ...      0.0         0.0     0.0       0.0   \n",
       "2            0.0             0.0  ...      0.0         0.0     0.0       0.0   \n",
       "3            0.0             0.0  ...      0.0         0.0     0.0       0.0   \n",
       "4            0.0             0.0  ...      0.0         0.0     0.0       0.0   \n",
       "\n",
       "   TLD_youtube  TLD_yt  TLD_za  TLD_zm  TLD_zone  TLD_zw  \n",
       "0          0.0     0.0     0.0     0.0       0.0     0.0  \n",
       "1          0.0     0.0     0.0     0.0       0.0     0.0  \n",
       "2          0.0     0.0     0.0     0.0       0.0     0.0  \n",
       "3          0.0     0.0     0.0     0.0       0.0     0.0  \n",
       "4          0.0     0.0     0.0     0.0       0.0     0.0  \n",
       "\n",
       "[5 rows x 737 columns]"
      ]
     },
     "execution_count": 28,
     "metadata": {},
     "output_type": "execute_result"
    }
   ],
   "source": [
    "scaled_data1=scaler.fit_transform(df_cleaned_corr_updated)\n",
    "scaled_df_corr=pd.DataFrame(scaled_data1,columns=df_cleaned_corr_updated.columns)\n",
    "scaled_df_corr.head()"
   ]
  },
  {
   "cell_type": "code",
   "execution_count": null,
   "metadata": {},
   "outputs": [],
   "source": []
  }
 ],
 "metadata": {
  "kernelspec": {
   "display_name": "env1",
   "language": "python",
   "name": "env1"
  },
  "language_info": {
   "codemirror_mode": {
    "name": "ipython",
    "version": 3
   },
   "file_extension": ".py",
   "mimetype": "text/x-python",
   "name": "python",
   "nbconvert_exporter": "python",
   "pygments_lexer": "ipython3",
   "version": "3.10.9"
  }
 },
 "nbformat": 4,
 "nbformat_minor": 2
}
